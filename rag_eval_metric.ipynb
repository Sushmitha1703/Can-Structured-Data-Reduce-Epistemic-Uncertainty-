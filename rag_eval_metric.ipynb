{
  "nbformat": 4,
  "nbformat_minor": 0,
  "metadata": {
    "colab": {
      "provenance": [],
      "gpuType": "T4"
    },
    "kernelspec": {
      "name": "python3",
      "display_name": "Python 3"
    },
    "language_info": {
      "name": "python"
    },
    "accelerator": "GPU",
    "widgets": {
      "application/vnd.jupyter.widget-state+json": {
        "13ed97166a9f4bc58645ac356abd8f36": {
          "model_module": "@jupyter-widgets/controls",
          "model_name": "HBoxModel",
          "model_module_version": "1.5.0",
          "state": {
            "_dom_classes": [],
            "_model_module": "@jupyter-widgets/controls",
            "_model_module_version": "1.5.0",
            "_model_name": "HBoxModel",
            "_view_count": null,
            "_view_module": "@jupyter-widgets/controls",
            "_view_module_version": "1.5.0",
            "_view_name": "HBoxView",
            "box_style": "",
            "children": [
              "IPY_MODEL_5fa9bfc0501a4a1682ca7d8a1c4d110c",
              "IPY_MODEL_afaafee1b34d47bfa1e65100b9256b8e",
              "IPY_MODEL_bf3ef205ae3e4c1f9685964a35163cc1"
            ],
            "layout": "IPY_MODEL_9eb0432f51db46ebb1cdaca28ba185d4"
          }
        },
        "5fa9bfc0501a4a1682ca7d8a1c4d110c": {
          "model_module": "@jupyter-widgets/controls",
          "model_name": "HTMLModel",
          "model_module_version": "1.5.0",
          "state": {
            "_dom_classes": [],
            "_model_module": "@jupyter-widgets/controls",
            "_model_module_version": "1.5.0",
            "_model_name": "HTMLModel",
            "_view_count": null,
            "_view_module": "@jupyter-widgets/controls",
            "_view_module_version": "1.5.0",
            "_view_name": "HTMLView",
            "description": "",
            "description_tooltip": null,
            "layout": "IPY_MODEL_b3d0dcabd89249cb88322993e08cad9b",
            "placeholder": "​",
            "style": "IPY_MODEL_01dbb7179af848afab95b757cc6bcf6d",
            "value": "config.json: 100%"
          }
        },
        "afaafee1b34d47bfa1e65100b9256b8e": {
          "model_module": "@jupyter-widgets/controls",
          "model_name": "FloatProgressModel",
          "model_module_version": "1.5.0",
          "state": {
            "_dom_classes": [],
            "_model_module": "@jupyter-widgets/controls",
            "_model_module_version": "1.5.0",
            "_model_name": "FloatProgressModel",
            "_view_count": null,
            "_view_module": "@jupyter-widgets/controls",
            "_view_module_version": "1.5.0",
            "_view_name": "ProgressView",
            "bar_style": "success",
            "description": "",
            "description_tooltip": null,
            "layout": "IPY_MODEL_ec0fa9d0c9bb42eab321c2c9e6cde2a6",
            "max": 570,
            "min": 0,
            "orientation": "horizontal",
            "style": "IPY_MODEL_e89adf19b9ed4f85969c6a63017f8d34",
            "value": 570
          }
        },
        "bf3ef205ae3e4c1f9685964a35163cc1": {
          "model_module": "@jupyter-widgets/controls",
          "model_name": "HTMLModel",
          "model_module_version": "1.5.0",
          "state": {
            "_dom_classes": [],
            "_model_module": "@jupyter-widgets/controls",
            "_model_module_version": "1.5.0",
            "_model_name": "HTMLModel",
            "_view_count": null,
            "_view_module": "@jupyter-widgets/controls",
            "_view_module_version": "1.5.0",
            "_view_name": "HTMLView",
            "description": "",
            "description_tooltip": null,
            "layout": "IPY_MODEL_4e1f5dc69aac4a35b96b2a06faae8a49",
            "placeholder": "​",
            "style": "IPY_MODEL_3099792e1c0b47c29fb8f25c011c6747",
            "value": " 570/570 [00:00&lt;00:00, 27.9kB/s]"
          }
        },
        "9eb0432f51db46ebb1cdaca28ba185d4": {
          "model_module": "@jupyter-widgets/base",
          "model_name": "LayoutModel",
          "model_module_version": "1.2.0",
          "state": {
            "_model_module": "@jupyter-widgets/base",
            "_model_module_version": "1.2.0",
            "_model_name": "LayoutModel",
            "_view_count": null,
            "_view_module": "@jupyter-widgets/base",
            "_view_module_version": "1.2.0",
            "_view_name": "LayoutView",
            "align_content": null,
            "align_items": null,
            "align_self": null,
            "border": null,
            "bottom": null,
            "display": null,
            "flex": null,
            "flex_flow": null,
            "grid_area": null,
            "grid_auto_columns": null,
            "grid_auto_flow": null,
            "grid_auto_rows": null,
            "grid_column": null,
            "grid_gap": null,
            "grid_row": null,
            "grid_template_areas": null,
            "grid_template_columns": null,
            "grid_template_rows": null,
            "height": null,
            "justify_content": null,
            "justify_items": null,
            "left": null,
            "margin": null,
            "max_height": null,
            "max_width": null,
            "min_height": null,
            "min_width": null,
            "object_fit": null,
            "object_position": null,
            "order": null,
            "overflow": null,
            "overflow_x": null,
            "overflow_y": null,
            "padding": null,
            "right": null,
            "top": null,
            "visibility": null,
            "width": null
          }
        },
        "b3d0dcabd89249cb88322993e08cad9b": {
          "model_module": "@jupyter-widgets/base",
          "model_name": "LayoutModel",
          "model_module_version": "1.2.0",
          "state": {
            "_model_module": "@jupyter-widgets/base",
            "_model_module_version": "1.2.0",
            "_model_name": "LayoutModel",
            "_view_count": null,
            "_view_module": "@jupyter-widgets/base",
            "_view_module_version": "1.2.0",
            "_view_name": "LayoutView",
            "align_content": null,
            "align_items": null,
            "align_self": null,
            "border": null,
            "bottom": null,
            "display": null,
            "flex": null,
            "flex_flow": null,
            "grid_area": null,
            "grid_auto_columns": null,
            "grid_auto_flow": null,
            "grid_auto_rows": null,
            "grid_column": null,
            "grid_gap": null,
            "grid_row": null,
            "grid_template_areas": null,
            "grid_template_columns": null,
            "grid_template_rows": null,
            "height": null,
            "justify_content": null,
            "justify_items": null,
            "left": null,
            "margin": null,
            "max_height": null,
            "max_width": null,
            "min_height": null,
            "min_width": null,
            "object_fit": null,
            "object_position": null,
            "order": null,
            "overflow": null,
            "overflow_x": null,
            "overflow_y": null,
            "padding": null,
            "right": null,
            "top": null,
            "visibility": null,
            "width": null
          }
        },
        "01dbb7179af848afab95b757cc6bcf6d": {
          "model_module": "@jupyter-widgets/controls",
          "model_name": "DescriptionStyleModel",
          "model_module_version": "1.5.0",
          "state": {
            "_model_module": "@jupyter-widgets/controls",
            "_model_module_version": "1.5.0",
            "_model_name": "DescriptionStyleModel",
            "_view_count": null,
            "_view_module": "@jupyter-widgets/base",
            "_view_module_version": "1.2.0",
            "_view_name": "StyleView",
            "description_width": ""
          }
        },
        "ec0fa9d0c9bb42eab321c2c9e6cde2a6": {
          "model_module": "@jupyter-widgets/base",
          "model_name": "LayoutModel",
          "model_module_version": "1.2.0",
          "state": {
            "_model_module": "@jupyter-widgets/base",
            "_model_module_version": "1.2.0",
            "_model_name": "LayoutModel",
            "_view_count": null,
            "_view_module": "@jupyter-widgets/base",
            "_view_module_version": "1.2.0",
            "_view_name": "LayoutView",
            "align_content": null,
            "align_items": null,
            "align_self": null,
            "border": null,
            "bottom": null,
            "display": null,
            "flex": null,
            "flex_flow": null,
            "grid_area": null,
            "grid_auto_columns": null,
            "grid_auto_flow": null,
            "grid_auto_rows": null,
            "grid_column": null,
            "grid_gap": null,
            "grid_row": null,
            "grid_template_areas": null,
            "grid_template_columns": null,
            "grid_template_rows": null,
            "height": null,
            "justify_content": null,
            "justify_items": null,
            "left": null,
            "margin": null,
            "max_height": null,
            "max_width": null,
            "min_height": null,
            "min_width": null,
            "object_fit": null,
            "object_position": null,
            "order": null,
            "overflow": null,
            "overflow_x": null,
            "overflow_y": null,
            "padding": null,
            "right": null,
            "top": null,
            "visibility": null,
            "width": null
          }
        },
        "e89adf19b9ed4f85969c6a63017f8d34": {
          "model_module": "@jupyter-widgets/controls",
          "model_name": "ProgressStyleModel",
          "model_module_version": "1.5.0",
          "state": {
            "_model_module": "@jupyter-widgets/controls",
            "_model_module_version": "1.5.0",
            "_model_name": "ProgressStyleModel",
            "_view_count": null,
            "_view_module": "@jupyter-widgets/base",
            "_view_module_version": "1.2.0",
            "_view_name": "StyleView",
            "bar_color": null,
            "description_width": ""
          }
        },
        "4e1f5dc69aac4a35b96b2a06faae8a49": {
          "model_module": "@jupyter-widgets/base",
          "model_name": "LayoutModel",
          "model_module_version": "1.2.0",
          "state": {
            "_model_module": "@jupyter-widgets/base",
            "_model_module_version": "1.2.0",
            "_model_name": "LayoutModel",
            "_view_count": null,
            "_view_module": "@jupyter-widgets/base",
            "_view_module_version": "1.2.0",
            "_view_name": "LayoutView",
            "align_content": null,
            "align_items": null,
            "align_self": null,
            "border": null,
            "bottom": null,
            "display": null,
            "flex": null,
            "flex_flow": null,
            "grid_area": null,
            "grid_auto_columns": null,
            "grid_auto_flow": null,
            "grid_auto_rows": null,
            "grid_column": null,
            "grid_gap": null,
            "grid_row": null,
            "grid_template_areas": null,
            "grid_template_columns": null,
            "grid_template_rows": null,
            "height": null,
            "justify_content": null,
            "justify_items": null,
            "left": null,
            "margin": null,
            "max_height": null,
            "max_width": null,
            "min_height": null,
            "min_width": null,
            "object_fit": null,
            "object_position": null,
            "order": null,
            "overflow": null,
            "overflow_x": null,
            "overflow_y": null,
            "padding": null,
            "right": null,
            "top": null,
            "visibility": null,
            "width": null
          }
        },
        "3099792e1c0b47c29fb8f25c011c6747": {
          "model_module": "@jupyter-widgets/controls",
          "model_name": "DescriptionStyleModel",
          "model_module_version": "1.5.0",
          "state": {
            "_model_module": "@jupyter-widgets/controls",
            "_model_module_version": "1.5.0",
            "_model_name": "DescriptionStyleModel",
            "_view_count": null,
            "_view_module": "@jupyter-widgets/base",
            "_view_module_version": "1.2.0",
            "_view_name": "StyleView",
            "description_width": ""
          }
        },
        "2a1c616e799c4f5da20e1cf2b9948701": {
          "model_module": "@jupyter-widgets/controls",
          "model_name": "HBoxModel",
          "model_module_version": "1.5.0",
          "state": {
            "_dom_classes": [],
            "_model_module": "@jupyter-widgets/controls",
            "_model_module_version": "1.5.0",
            "_model_name": "HBoxModel",
            "_view_count": null,
            "_view_module": "@jupyter-widgets/controls",
            "_view_module_version": "1.5.0",
            "_view_name": "HBoxView",
            "box_style": "",
            "children": [
              "IPY_MODEL_27c6fc2a8d124b39909d1e4b303b43e6",
              "IPY_MODEL_c6f947218a4c46edbf31e19d7ccbe9e3",
              "IPY_MODEL_f57fec9e59a649c3bcc10cc5dbc0fd0f"
            ],
            "layout": "IPY_MODEL_871c9d10ed8d45038e5835b644e05e6f"
          }
        },
        "27c6fc2a8d124b39909d1e4b303b43e6": {
          "model_module": "@jupyter-widgets/controls",
          "model_name": "HTMLModel",
          "model_module_version": "1.5.0",
          "state": {
            "_dom_classes": [],
            "_model_module": "@jupyter-widgets/controls",
            "_model_module_version": "1.5.0",
            "_model_name": "HTMLModel",
            "_view_count": null,
            "_view_module": "@jupyter-widgets/controls",
            "_view_module_version": "1.5.0",
            "_view_name": "HTMLView",
            "description": "",
            "description_tooltip": null,
            "layout": "IPY_MODEL_a1dc1aa1821049f1a26cf77c3965c58a",
            "placeholder": "​",
            "style": "IPY_MODEL_5e4e60e4f6e04e1dac6cee861351a004",
            "value": "model.safetensors: 100%"
          }
        },
        "c6f947218a4c46edbf31e19d7ccbe9e3": {
          "model_module": "@jupyter-widgets/controls",
          "model_name": "FloatProgressModel",
          "model_module_version": "1.5.0",
          "state": {
            "_dom_classes": [],
            "_model_module": "@jupyter-widgets/controls",
            "_model_module_version": "1.5.0",
            "_model_name": "FloatProgressModel",
            "_view_count": null,
            "_view_module": "@jupyter-widgets/controls",
            "_view_module_version": "1.5.0",
            "_view_name": "ProgressView",
            "bar_style": "success",
            "description": "",
            "description_tooltip": null,
            "layout": "IPY_MODEL_57012b6b49bd4a3396d31fae529e4dd1",
            "max": 440449768,
            "min": 0,
            "orientation": "horizontal",
            "style": "IPY_MODEL_56a770e57df1467098da37c92a921d79",
            "value": 440449768
          }
        },
        "f57fec9e59a649c3bcc10cc5dbc0fd0f": {
          "model_module": "@jupyter-widgets/controls",
          "model_name": "HTMLModel",
          "model_module_version": "1.5.0",
          "state": {
            "_dom_classes": [],
            "_model_module": "@jupyter-widgets/controls",
            "_model_module_version": "1.5.0",
            "_model_name": "HTMLModel",
            "_view_count": null,
            "_view_module": "@jupyter-widgets/controls",
            "_view_module_version": "1.5.0",
            "_view_name": "HTMLView",
            "description": "",
            "description_tooltip": null,
            "layout": "IPY_MODEL_4de5b6a3957e43e9b868582a7504d0c6",
            "placeholder": "​",
            "style": "IPY_MODEL_3167c9977af14f0b9e9c735780d20a87",
            "value": " 440M/440M [00:02&lt;00:00, 160MB/s]"
          }
        },
        "871c9d10ed8d45038e5835b644e05e6f": {
          "model_module": "@jupyter-widgets/base",
          "model_name": "LayoutModel",
          "model_module_version": "1.2.0",
          "state": {
            "_model_module": "@jupyter-widgets/base",
            "_model_module_version": "1.2.0",
            "_model_name": "LayoutModel",
            "_view_count": null,
            "_view_module": "@jupyter-widgets/base",
            "_view_module_version": "1.2.0",
            "_view_name": "LayoutView",
            "align_content": null,
            "align_items": null,
            "align_self": null,
            "border": null,
            "bottom": null,
            "display": null,
            "flex": null,
            "flex_flow": null,
            "grid_area": null,
            "grid_auto_columns": null,
            "grid_auto_flow": null,
            "grid_auto_rows": null,
            "grid_column": null,
            "grid_gap": null,
            "grid_row": null,
            "grid_template_areas": null,
            "grid_template_columns": null,
            "grid_template_rows": null,
            "height": null,
            "justify_content": null,
            "justify_items": null,
            "left": null,
            "margin": null,
            "max_height": null,
            "max_width": null,
            "min_height": null,
            "min_width": null,
            "object_fit": null,
            "object_position": null,
            "order": null,
            "overflow": null,
            "overflow_x": null,
            "overflow_y": null,
            "padding": null,
            "right": null,
            "top": null,
            "visibility": null,
            "width": null
          }
        },
        "a1dc1aa1821049f1a26cf77c3965c58a": {
          "model_module": "@jupyter-widgets/base",
          "model_name": "LayoutModel",
          "model_module_version": "1.2.0",
          "state": {
            "_model_module": "@jupyter-widgets/base",
            "_model_module_version": "1.2.0",
            "_model_name": "LayoutModel",
            "_view_count": null,
            "_view_module": "@jupyter-widgets/base",
            "_view_module_version": "1.2.0",
            "_view_name": "LayoutView",
            "align_content": null,
            "align_items": null,
            "align_self": null,
            "border": null,
            "bottom": null,
            "display": null,
            "flex": null,
            "flex_flow": null,
            "grid_area": null,
            "grid_auto_columns": null,
            "grid_auto_flow": null,
            "grid_auto_rows": null,
            "grid_column": null,
            "grid_gap": null,
            "grid_row": null,
            "grid_template_areas": null,
            "grid_template_columns": null,
            "grid_template_rows": null,
            "height": null,
            "justify_content": null,
            "justify_items": null,
            "left": null,
            "margin": null,
            "max_height": null,
            "max_width": null,
            "min_height": null,
            "min_width": null,
            "object_fit": null,
            "object_position": null,
            "order": null,
            "overflow": null,
            "overflow_x": null,
            "overflow_y": null,
            "padding": null,
            "right": null,
            "top": null,
            "visibility": null,
            "width": null
          }
        },
        "5e4e60e4f6e04e1dac6cee861351a004": {
          "model_module": "@jupyter-widgets/controls",
          "model_name": "DescriptionStyleModel",
          "model_module_version": "1.5.0",
          "state": {
            "_model_module": "@jupyter-widgets/controls",
            "_model_module_version": "1.5.0",
            "_model_name": "DescriptionStyleModel",
            "_view_count": null,
            "_view_module": "@jupyter-widgets/base",
            "_view_module_version": "1.2.0",
            "_view_name": "StyleView",
            "description_width": ""
          }
        },
        "57012b6b49bd4a3396d31fae529e4dd1": {
          "model_module": "@jupyter-widgets/base",
          "model_name": "LayoutModel",
          "model_module_version": "1.2.0",
          "state": {
            "_model_module": "@jupyter-widgets/base",
            "_model_module_version": "1.2.0",
            "_model_name": "LayoutModel",
            "_view_count": null,
            "_view_module": "@jupyter-widgets/base",
            "_view_module_version": "1.2.0",
            "_view_name": "LayoutView",
            "align_content": null,
            "align_items": null,
            "align_self": null,
            "border": null,
            "bottom": null,
            "display": null,
            "flex": null,
            "flex_flow": null,
            "grid_area": null,
            "grid_auto_columns": null,
            "grid_auto_flow": null,
            "grid_auto_rows": null,
            "grid_column": null,
            "grid_gap": null,
            "grid_row": null,
            "grid_template_areas": null,
            "grid_template_columns": null,
            "grid_template_rows": null,
            "height": null,
            "justify_content": null,
            "justify_items": null,
            "left": null,
            "margin": null,
            "max_height": null,
            "max_width": null,
            "min_height": null,
            "min_width": null,
            "object_fit": null,
            "object_position": null,
            "order": null,
            "overflow": null,
            "overflow_x": null,
            "overflow_y": null,
            "padding": null,
            "right": null,
            "top": null,
            "visibility": null,
            "width": null
          }
        },
        "56a770e57df1467098da37c92a921d79": {
          "model_module": "@jupyter-widgets/controls",
          "model_name": "ProgressStyleModel",
          "model_module_version": "1.5.0",
          "state": {
            "_model_module": "@jupyter-widgets/controls",
            "_model_module_version": "1.5.0",
            "_model_name": "ProgressStyleModel",
            "_view_count": null,
            "_view_module": "@jupyter-widgets/base",
            "_view_module_version": "1.2.0",
            "_view_name": "StyleView",
            "bar_color": null,
            "description_width": ""
          }
        },
        "4de5b6a3957e43e9b868582a7504d0c6": {
          "model_module": "@jupyter-widgets/base",
          "model_name": "LayoutModel",
          "model_module_version": "1.2.0",
          "state": {
            "_model_module": "@jupyter-widgets/base",
            "_model_module_version": "1.2.0",
            "_model_name": "LayoutModel",
            "_view_count": null,
            "_view_module": "@jupyter-widgets/base",
            "_view_module_version": "1.2.0",
            "_view_name": "LayoutView",
            "align_content": null,
            "align_items": null,
            "align_self": null,
            "border": null,
            "bottom": null,
            "display": null,
            "flex": null,
            "flex_flow": null,
            "grid_area": null,
            "grid_auto_columns": null,
            "grid_auto_flow": null,
            "grid_auto_rows": null,
            "grid_column": null,
            "grid_gap": null,
            "grid_row": null,
            "grid_template_areas": null,
            "grid_template_columns": null,
            "grid_template_rows": null,
            "height": null,
            "justify_content": null,
            "justify_items": null,
            "left": null,
            "margin": null,
            "max_height": null,
            "max_width": null,
            "min_height": null,
            "min_width": null,
            "object_fit": null,
            "object_position": null,
            "order": null,
            "overflow": null,
            "overflow_x": null,
            "overflow_y": null,
            "padding": null,
            "right": null,
            "top": null,
            "visibility": null,
            "width": null
          }
        },
        "3167c9977af14f0b9e9c735780d20a87": {
          "model_module": "@jupyter-widgets/controls",
          "model_name": "DescriptionStyleModel",
          "model_module_version": "1.5.0",
          "state": {
            "_model_module": "@jupyter-widgets/controls",
            "_model_module_version": "1.5.0",
            "_model_name": "DescriptionStyleModel",
            "_view_count": null,
            "_view_module": "@jupyter-widgets/base",
            "_view_module_version": "1.2.0",
            "_view_name": "StyleView",
            "description_width": ""
          }
        },
        "18974b86d0204ad889397d4544e19228": {
          "model_module": "@jupyter-widgets/controls",
          "model_name": "HBoxModel",
          "model_module_version": "1.5.0",
          "state": {
            "_dom_classes": [],
            "_model_module": "@jupyter-widgets/controls",
            "_model_module_version": "1.5.0",
            "_model_name": "HBoxModel",
            "_view_count": null,
            "_view_module": "@jupyter-widgets/controls",
            "_view_module_version": "1.5.0",
            "_view_name": "HBoxView",
            "box_style": "",
            "children": [
              "IPY_MODEL_d4beb0e4bd3f4da19acb5bc1e090fd5c",
              "IPY_MODEL_4f7a54d3bb6b4982b3f76acb792cd6b1",
              "IPY_MODEL_c1390b3f5e68465fb002c53d43deacf5"
            ],
            "layout": "IPY_MODEL_ca097d33ad404569b1a4fb4b5fd53274"
          }
        },
        "d4beb0e4bd3f4da19acb5bc1e090fd5c": {
          "model_module": "@jupyter-widgets/controls",
          "model_name": "HTMLModel",
          "model_module_version": "1.5.0",
          "state": {
            "_dom_classes": [],
            "_model_module": "@jupyter-widgets/controls",
            "_model_module_version": "1.5.0",
            "_model_name": "HTMLModel",
            "_view_count": null,
            "_view_module": "@jupyter-widgets/controls",
            "_view_module_version": "1.5.0",
            "_view_name": "HTMLView",
            "description": "",
            "description_tooltip": null,
            "layout": "IPY_MODEL_fbed9eff57b848cf8df6b29e383985ff",
            "placeholder": "​",
            "style": "IPY_MODEL_469cad3e01334c0e8b4c53fa603c5ce2",
            "value": "tokenizer_config.json: 100%"
          }
        },
        "4f7a54d3bb6b4982b3f76acb792cd6b1": {
          "model_module": "@jupyter-widgets/controls",
          "model_name": "FloatProgressModel",
          "model_module_version": "1.5.0",
          "state": {
            "_dom_classes": [],
            "_model_module": "@jupyter-widgets/controls",
            "_model_module_version": "1.5.0",
            "_model_name": "FloatProgressModel",
            "_view_count": null,
            "_view_module": "@jupyter-widgets/controls",
            "_view_module_version": "1.5.0",
            "_view_name": "ProgressView",
            "bar_style": "success",
            "description": "",
            "description_tooltip": null,
            "layout": "IPY_MODEL_04f94d9dda18450997d9c07547fd9003",
            "max": 48,
            "min": 0,
            "orientation": "horizontal",
            "style": "IPY_MODEL_8804fbe8df8a4c6a9683d7dfa0e08647",
            "value": 48
          }
        },
        "c1390b3f5e68465fb002c53d43deacf5": {
          "model_module": "@jupyter-widgets/controls",
          "model_name": "HTMLModel",
          "model_module_version": "1.5.0",
          "state": {
            "_dom_classes": [],
            "_model_module": "@jupyter-widgets/controls",
            "_model_module_version": "1.5.0",
            "_model_name": "HTMLModel",
            "_view_count": null,
            "_view_module": "@jupyter-widgets/controls",
            "_view_module_version": "1.5.0",
            "_view_name": "HTMLView",
            "description": "",
            "description_tooltip": null,
            "layout": "IPY_MODEL_1930eb039e954812bc7ecd8e6dd84f80",
            "placeholder": "​",
            "style": "IPY_MODEL_4217f131d49f4443b9ac694b6264ddac",
            "value": " 48.0/48.0 [00:00&lt;00:00, 1.69kB/s]"
          }
        },
        "ca097d33ad404569b1a4fb4b5fd53274": {
          "model_module": "@jupyter-widgets/base",
          "model_name": "LayoutModel",
          "model_module_version": "1.2.0",
          "state": {
            "_model_module": "@jupyter-widgets/base",
            "_model_module_version": "1.2.0",
            "_model_name": "LayoutModel",
            "_view_count": null,
            "_view_module": "@jupyter-widgets/base",
            "_view_module_version": "1.2.0",
            "_view_name": "LayoutView",
            "align_content": null,
            "align_items": null,
            "align_self": null,
            "border": null,
            "bottom": null,
            "display": null,
            "flex": null,
            "flex_flow": null,
            "grid_area": null,
            "grid_auto_columns": null,
            "grid_auto_flow": null,
            "grid_auto_rows": null,
            "grid_column": null,
            "grid_gap": null,
            "grid_row": null,
            "grid_template_areas": null,
            "grid_template_columns": null,
            "grid_template_rows": null,
            "height": null,
            "justify_content": null,
            "justify_items": null,
            "left": null,
            "margin": null,
            "max_height": null,
            "max_width": null,
            "min_height": null,
            "min_width": null,
            "object_fit": null,
            "object_position": null,
            "order": null,
            "overflow": null,
            "overflow_x": null,
            "overflow_y": null,
            "padding": null,
            "right": null,
            "top": null,
            "visibility": null,
            "width": null
          }
        },
        "fbed9eff57b848cf8df6b29e383985ff": {
          "model_module": "@jupyter-widgets/base",
          "model_name": "LayoutModel",
          "model_module_version": "1.2.0",
          "state": {
            "_model_module": "@jupyter-widgets/base",
            "_model_module_version": "1.2.0",
            "_model_name": "LayoutModel",
            "_view_count": null,
            "_view_module": "@jupyter-widgets/base",
            "_view_module_version": "1.2.0",
            "_view_name": "LayoutView",
            "align_content": null,
            "align_items": null,
            "align_self": null,
            "border": null,
            "bottom": null,
            "display": null,
            "flex": null,
            "flex_flow": null,
            "grid_area": null,
            "grid_auto_columns": null,
            "grid_auto_flow": null,
            "grid_auto_rows": null,
            "grid_column": null,
            "grid_gap": null,
            "grid_row": null,
            "grid_template_areas": null,
            "grid_template_columns": null,
            "grid_template_rows": null,
            "height": null,
            "justify_content": null,
            "justify_items": null,
            "left": null,
            "margin": null,
            "max_height": null,
            "max_width": null,
            "min_height": null,
            "min_width": null,
            "object_fit": null,
            "object_position": null,
            "order": null,
            "overflow": null,
            "overflow_x": null,
            "overflow_y": null,
            "padding": null,
            "right": null,
            "top": null,
            "visibility": null,
            "width": null
          }
        },
        "469cad3e01334c0e8b4c53fa603c5ce2": {
          "model_module": "@jupyter-widgets/controls",
          "model_name": "DescriptionStyleModel",
          "model_module_version": "1.5.0",
          "state": {
            "_model_module": "@jupyter-widgets/controls",
            "_model_module_version": "1.5.0",
            "_model_name": "DescriptionStyleModel",
            "_view_count": null,
            "_view_module": "@jupyter-widgets/base",
            "_view_module_version": "1.2.0",
            "_view_name": "StyleView",
            "description_width": ""
          }
        },
        "04f94d9dda18450997d9c07547fd9003": {
          "model_module": "@jupyter-widgets/base",
          "model_name": "LayoutModel",
          "model_module_version": "1.2.0",
          "state": {
            "_model_module": "@jupyter-widgets/base",
            "_model_module_version": "1.2.0",
            "_model_name": "LayoutModel",
            "_view_count": null,
            "_view_module": "@jupyter-widgets/base",
            "_view_module_version": "1.2.0",
            "_view_name": "LayoutView",
            "align_content": null,
            "align_items": null,
            "align_self": null,
            "border": null,
            "bottom": null,
            "display": null,
            "flex": null,
            "flex_flow": null,
            "grid_area": null,
            "grid_auto_columns": null,
            "grid_auto_flow": null,
            "grid_auto_rows": null,
            "grid_column": null,
            "grid_gap": null,
            "grid_row": null,
            "grid_template_areas": null,
            "grid_template_columns": null,
            "grid_template_rows": null,
            "height": null,
            "justify_content": null,
            "justify_items": null,
            "left": null,
            "margin": null,
            "max_height": null,
            "max_width": null,
            "min_height": null,
            "min_width": null,
            "object_fit": null,
            "object_position": null,
            "order": null,
            "overflow": null,
            "overflow_x": null,
            "overflow_y": null,
            "padding": null,
            "right": null,
            "top": null,
            "visibility": null,
            "width": null
          }
        },
        "8804fbe8df8a4c6a9683d7dfa0e08647": {
          "model_module": "@jupyter-widgets/controls",
          "model_name": "ProgressStyleModel",
          "model_module_version": "1.5.0",
          "state": {
            "_model_module": "@jupyter-widgets/controls",
            "_model_module_version": "1.5.0",
            "_model_name": "ProgressStyleModel",
            "_view_count": null,
            "_view_module": "@jupyter-widgets/base",
            "_view_module_version": "1.2.0",
            "_view_name": "StyleView",
            "bar_color": null,
            "description_width": ""
          }
        },
        "1930eb039e954812bc7ecd8e6dd84f80": {
          "model_module": "@jupyter-widgets/base",
          "model_name": "LayoutModel",
          "model_module_version": "1.2.0",
          "state": {
            "_model_module": "@jupyter-widgets/base",
            "_model_module_version": "1.2.0",
            "_model_name": "LayoutModel",
            "_view_count": null,
            "_view_module": "@jupyter-widgets/base",
            "_view_module_version": "1.2.0",
            "_view_name": "LayoutView",
            "align_content": null,
            "align_items": null,
            "align_self": null,
            "border": null,
            "bottom": null,
            "display": null,
            "flex": null,
            "flex_flow": null,
            "grid_area": null,
            "grid_auto_columns": null,
            "grid_auto_flow": null,
            "grid_auto_rows": null,
            "grid_column": null,
            "grid_gap": null,
            "grid_row": null,
            "grid_template_areas": null,
            "grid_template_columns": null,
            "grid_template_rows": null,
            "height": null,
            "justify_content": null,
            "justify_items": null,
            "left": null,
            "margin": null,
            "max_height": null,
            "max_width": null,
            "min_height": null,
            "min_width": null,
            "object_fit": null,
            "object_position": null,
            "order": null,
            "overflow": null,
            "overflow_x": null,
            "overflow_y": null,
            "padding": null,
            "right": null,
            "top": null,
            "visibility": null,
            "width": null
          }
        },
        "4217f131d49f4443b9ac694b6264ddac": {
          "model_module": "@jupyter-widgets/controls",
          "model_name": "DescriptionStyleModel",
          "model_module_version": "1.5.0",
          "state": {
            "_model_module": "@jupyter-widgets/controls",
            "_model_module_version": "1.5.0",
            "_model_name": "DescriptionStyleModel",
            "_view_count": null,
            "_view_module": "@jupyter-widgets/base",
            "_view_module_version": "1.2.0",
            "_view_name": "StyleView",
            "description_width": ""
          }
        },
        "c5e5abf7c08f45289d26c4d16b16f356": {
          "model_module": "@jupyter-widgets/controls",
          "model_name": "HBoxModel",
          "model_module_version": "1.5.0",
          "state": {
            "_dom_classes": [],
            "_model_module": "@jupyter-widgets/controls",
            "_model_module_version": "1.5.0",
            "_model_name": "HBoxModel",
            "_view_count": null,
            "_view_module": "@jupyter-widgets/controls",
            "_view_module_version": "1.5.0",
            "_view_name": "HBoxView",
            "box_style": "",
            "children": [
              "IPY_MODEL_7a0dce2709864b31b341561c3e432177",
              "IPY_MODEL_b553e9a8f8e8423e81c5c0de96e7167e",
              "IPY_MODEL_4216cb9bc295410485a02cfdd5e796b8"
            ],
            "layout": "IPY_MODEL_c3a903859b204133bc7b79c039597eac"
          }
        },
        "7a0dce2709864b31b341561c3e432177": {
          "model_module": "@jupyter-widgets/controls",
          "model_name": "HTMLModel",
          "model_module_version": "1.5.0",
          "state": {
            "_dom_classes": [],
            "_model_module": "@jupyter-widgets/controls",
            "_model_module_version": "1.5.0",
            "_model_name": "HTMLModel",
            "_view_count": null,
            "_view_module": "@jupyter-widgets/controls",
            "_view_module_version": "1.5.0",
            "_view_name": "HTMLView",
            "description": "",
            "description_tooltip": null,
            "layout": "IPY_MODEL_6ba5651c08dc4e6baf3cc3aaf1ef2f6a",
            "placeholder": "​",
            "style": "IPY_MODEL_6497b32722d04f4da801a02dfb3d30bc",
            "value": "vocab.txt: 100%"
          }
        },
        "b553e9a8f8e8423e81c5c0de96e7167e": {
          "model_module": "@jupyter-widgets/controls",
          "model_name": "FloatProgressModel",
          "model_module_version": "1.5.0",
          "state": {
            "_dom_classes": [],
            "_model_module": "@jupyter-widgets/controls",
            "_model_module_version": "1.5.0",
            "_model_name": "FloatProgressModel",
            "_view_count": null,
            "_view_module": "@jupyter-widgets/controls",
            "_view_module_version": "1.5.0",
            "_view_name": "ProgressView",
            "bar_style": "success",
            "description": "",
            "description_tooltip": null,
            "layout": "IPY_MODEL_34e3a82e39db44b58ff2610c7b0522da",
            "max": 231508,
            "min": 0,
            "orientation": "horizontal",
            "style": "IPY_MODEL_2b69220de29449c4a78d6dc8a4a63839",
            "value": 231508
          }
        },
        "4216cb9bc295410485a02cfdd5e796b8": {
          "model_module": "@jupyter-widgets/controls",
          "model_name": "HTMLModel",
          "model_module_version": "1.5.0",
          "state": {
            "_dom_classes": [],
            "_model_module": "@jupyter-widgets/controls",
            "_model_module_version": "1.5.0",
            "_model_name": "HTMLModel",
            "_view_count": null,
            "_view_module": "@jupyter-widgets/controls",
            "_view_module_version": "1.5.0",
            "_view_name": "HTMLView",
            "description": "",
            "description_tooltip": null,
            "layout": "IPY_MODEL_e3e5f73ea0274b198684745b74c6b7de",
            "placeholder": "​",
            "style": "IPY_MODEL_7a7b5b425bd648efada830341c14909d",
            "value": " 232k/232k [00:00&lt;00:00, 4.01MB/s]"
          }
        },
        "c3a903859b204133bc7b79c039597eac": {
          "model_module": "@jupyter-widgets/base",
          "model_name": "LayoutModel",
          "model_module_version": "1.2.0",
          "state": {
            "_model_module": "@jupyter-widgets/base",
            "_model_module_version": "1.2.0",
            "_model_name": "LayoutModel",
            "_view_count": null,
            "_view_module": "@jupyter-widgets/base",
            "_view_module_version": "1.2.0",
            "_view_name": "LayoutView",
            "align_content": null,
            "align_items": null,
            "align_self": null,
            "border": null,
            "bottom": null,
            "display": null,
            "flex": null,
            "flex_flow": null,
            "grid_area": null,
            "grid_auto_columns": null,
            "grid_auto_flow": null,
            "grid_auto_rows": null,
            "grid_column": null,
            "grid_gap": null,
            "grid_row": null,
            "grid_template_areas": null,
            "grid_template_columns": null,
            "grid_template_rows": null,
            "height": null,
            "justify_content": null,
            "justify_items": null,
            "left": null,
            "margin": null,
            "max_height": null,
            "max_width": null,
            "min_height": null,
            "min_width": null,
            "object_fit": null,
            "object_position": null,
            "order": null,
            "overflow": null,
            "overflow_x": null,
            "overflow_y": null,
            "padding": null,
            "right": null,
            "top": null,
            "visibility": null,
            "width": null
          }
        },
        "6ba5651c08dc4e6baf3cc3aaf1ef2f6a": {
          "model_module": "@jupyter-widgets/base",
          "model_name": "LayoutModel",
          "model_module_version": "1.2.0",
          "state": {
            "_model_module": "@jupyter-widgets/base",
            "_model_module_version": "1.2.0",
            "_model_name": "LayoutModel",
            "_view_count": null,
            "_view_module": "@jupyter-widgets/base",
            "_view_module_version": "1.2.0",
            "_view_name": "LayoutView",
            "align_content": null,
            "align_items": null,
            "align_self": null,
            "border": null,
            "bottom": null,
            "display": null,
            "flex": null,
            "flex_flow": null,
            "grid_area": null,
            "grid_auto_columns": null,
            "grid_auto_flow": null,
            "grid_auto_rows": null,
            "grid_column": null,
            "grid_gap": null,
            "grid_row": null,
            "grid_template_areas": null,
            "grid_template_columns": null,
            "grid_template_rows": null,
            "height": null,
            "justify_content": null,
            "justify_items": null,
            "left": null,
            "margin": null,
            "max_height": null,
            "max_width": null,
            "min_height": null,
            "min_width": null,
            "object_fit": null,
            "object_position": null,
            "order": null,
            "overflow": null,
            "overflow_x": null,
            "overflow_y": null,
            "padding": null,
            "right": null,
            "top": null,
            "visibility": null,
            "width": null
          }
        },
        "6497b32722d04f4da801a02dfb3d30bc": {
          "model_module": "@jupyter-widgets/controls",
          "model_name": "DescriptionStyleModel",
          "model_module_version": "1.5.0",
          "state": {
            "_model_module": "@jupyter-widgets/controls",
            "_model_module_version": "1.5.0",
            "_model_name": "DescriptionStyleModel",
            "_view_count": null,
            "_view_module": "@jupyter-widgets/base",
            "_view_module_version": "1.2.0",
            "_view_name": "StyleView",
            "description_width": ""
          }
        },
        "34e3a82e39db44b58ff2610c7b0522da": {
          "model_module": "@jupyter-widgets/base",
          "model_name": "LayoutModel",
          "model_module_version": "1.2.0",
          "state": {
            "_model_module": "@jupyter-widgets/base",
            "_model_module_version": "1.2.0",
            "_model_name": "LayoutModel",
            "_view_count": null,
            "_view_module": "@jupyter-widgets/base",
            "_view_module_version": "1.2.0",
            "_view_name": "LayoutView",
            "align_content": null,
            "align_items": null,
            "align_self": null,
            "border": null,
            "bottom": null,
            "display": null,
            "flex": null,
            "flex_flow": null,
            "grid_area": null,
            "grid_auto_columns": null,
            "grid_auto_flow": null,
            "grid_auto_rows": null,
            "grid_column": null,
            "grid_gap": null,
            "grid_row": null,
            "grid_template_areas": null,
            "grid_template_columns": null,
            "grid_template_rows": null,
            "height": null,
            "justify_content": null,
            "justify_items": null,
            "left": null,
            "margin": null,
            "max_height": null,
            "max_width": null,
            "min_height": null,
            "min_width": null,
            "object_fit": null,
            "object_position": null,
            "order": null,
            "overflow": null,
            "overflow_x": null,
            "overflow_y": null,
            "padding": null,
            "right": null,
            "top": null,
            "visibility": null,
            "width": null
          }
        },
        "2b69220de29449c4a78d6dc8a4a63839": {
          "model_module": "@jupyter-widgets/controls",
          "model_name": "ProgressStyleModel",
          "model_module_version": "1.5.0",
          "state": {
            "_model_module": "@jupyter-widgets/controls",
            "_model_module_version": "1.5.0",
            "_model_name": "ProgressStyleModel",
            "_view_count": null,
            "_view_module": "@jupyter-widgets/base",
            "_view_module_version": "1.2.0",
            "_view_name": "StyleView",
            "bar_color": null,
            "description_width": ""
          }
        },
        "e3e5f73ea0274b198684745b74c6b7de": {
          "model_module": "@jupyter-widgets/base",
          "model_name": "LayoutModel",
          "model_module_version": "1.2.0",
          "state": {
            "_model_module": "@jupyter-widgets/base",
            "_model_module_version": "1.2.0",
            "_model_name": "LayoutModel",
            "_view_count": null,
            "_view_module": "@jupyter-widgets/base",
            "_view_module_version": "1.2.0",
            "_view_name": "LayoutView",
            "align_content": null,
            "align_items": null,
            "align_self": null,
            "border": null,
            "bottom": null,
            "display": null,
            "flex": null,
            "flex_flow": null,
            "grid_area": null,
            "grid_auto_columns": null,
            "grid_auto_flow": null,
            "grid_auto_rows": null,
            "grid_column": null,
            "grid_gap": null,
            "grid_row": null,
            "grid_template_areas": null,
            "grid_template_columns": null,
            "grid_template_rows": null,
            "height": null,
            "justify_content": null,
            "justify_items": null,
            "left": null,
            "margin": null,
            "max_height": null,
            "max_width": null,
            "min_height": null,
            "min_width": null,
            "object_fit": null,
            "object_position": null,
            "order": null,
            "overflow": null,
            "overflow_x": null,
            "overflow_y": null,
            "padding": null,
            "right": null,
            "top": null,
            "visibility": null,
            "width": null
          }
        },
        "7a7b5b425bd648efada830341c14909d": {
          "model_module": "@jupyter-widgets/controls",
          "model_name": "DescriptionStyleModel",
          "model_module_version": "1.5.0",
          "state": {
            "_model_module": "@jupyter-widgets/controls",
            "_model_module_version": "1.5.0",
            "_model_name": "DescriptionStyleModel",
            "_view_count": null,
            "_view_module": "@jupyter-widgets/base",
            "_view_module_version": "1.2.0",
            "_view_name": "StyleView",
            "description_width": ""
          }
        },
        "daac3392ed954fcfae605a16d87b9060": {
          "model_module": "@jupyter-widgets/controls",
          "model_name": "HBoxModel",
          "model_module_version": "1.5.0",
          "state": {
            "_dom_classes": [],
            "_model_module": "@jupyter-widgets/controls",
            "_model_module_version": "1.5.0",
            "_model_name": "HBoxModel",
            "_view_count": null,
            "_view_module": "@jupyter-widgets/controls",
            "_view_module_version": "1.5.0",
            "_view_name": "HBoxView",
            "box_style": "",
            "children": [
              "IPY_MODEL_5c6996bdc1184c7bb1c7be29824a3715",
              "IPY_MODEL_2e4cdcd16f1644a6889fca5d658ac7b6",
              "IPY_MODEL_9a71e8ba45ac456caaf899c507d53416"
            ],
            "layout": "IPY_MODEL_0a688cdf5dc449579b59bde0ec40215b"
          }
        },
        "5c6996bdc1184c7bb1c7be29824a3715": {
          "model_module": "@jupyter-widgets/controls",
          "model_name": "HTMLModel",
          "model_module_version": "1.5.0",
          "state": {
            "_dom_classes": [],
            "_model_module": "@jupyter-widgets/controls",
            "_model_module_version": "1.5.0",
            "_model_name": "HTMLModel",
            "_view_count": null,
            "_view_module": "@jupyter-widgets/controls",
            "_view_module_version": "1.5.0",
            "_view_name": "HTMLView",
            "description": "",
            "description_tooltip": null,
            "layout": "IPY_MODEL_27154aea83034186a214adf843d5cbdf",
            "placeholder": "​",
            "style": "IPY_MODEL_b5868efa04684a8d9935814baa4da491",
            "value": "tokenizer.json: 100%"
          }
        },
        "2e4cdcd16f1644a6889fca5d658ac7b6": {
          "model_module": "@jupyter-widgets/controls",
          "model_name": "FloatProgressModel",
          "model_module_version": "1.5.0",
          "state": {
            "_dom_classes": [],
            "_model_module": "@jupyter-widgets/controls",
            "_model_module_version": "1.5.0",
            "_model_name": "FloatProgressModel",
            "_view_count": null,
            "_view_module": "@jupyter-widgets/controls",
            "_view_module_version": "1.5.0",
            "_view_name": "ProgressView",
            "bar_style": "success",
            "description": "",
            "description_tooltip": null,
            "layout": "IPY_MODEL_99c67c01d40f48eaba89cf91e0ec8842",
            "max": 466062,
            "min": 0,
            "orientation": "horizontal",
            "style": "IPY_MODEL_ed25eb1f7dcc4f0496719d2546b39ce7",
            "value": 466062
          }
        },
        "9a71e8ba45ac456caaf899c507d53416": {
          "model_module": "@jupyter-widgets/controls",
          "model_name": "HTMLModel",
          "model_module_version": "1.5.0",
          "state": {
            "_dom_classes": [],
            "_model_module": "@jupyter-widgets/controls",
            "_model_module_version": "1.5.0",
            "_model_name": "HTMLModel",
            "_view_count": null,
            "_view_module": "@jupyter-widgets/controls",
            "_view_module_version": "1.5.0",
            "_view_name": "HTMLView",
            "description": "",
            "description_tooltip": null,
            "layout": "IPY_MODEL_35d2eb270e4f4b62b2f55150abb361eb",
            "placeholder": "​",
            "style": "IPY_MODEL_fd4dd9e08d61408ab2ba7b07ce9c2b75",
            "value": " 466k/466k [00:00&lt;00:00, 9.42MB/s]"
          }
        },
        "0a688cdf5dc449579b59bde0ec40215b": {
          "model_module": "@jupyter-widgets/base",
          "model_name": "LayoutModel",
          "model_module_version": "1.2.0",
          "state": {
            "_model_module": "@jupyter-widgets/base",
            "_model_module_version": "1.2.0",
            "_model_name": "LayoutModel",
            "_view_count": null,
            "_view_module": "@jupyter-widgets/base",
            "_view_module_version": "1.2.0",
            "_view_name": "LayoutView",
            "align_content": null,
            "align_items": null,
            "align_self": null,
            "border": null,
            "bottom": null,
            "display": null,
            "flex": null,
            "flex_flow": null,
            "grid_area": null,
            "grid_auto_columns": null,
            "grid_auto_flow": null,
            "grid_auto_rows": null,
            "grid_column": null,
            "grid_gap": null,
            "grid_row": null,
            "grid_template_areas": null,
            "grid_template_columns": null,
            "grid_template_rows": null,
            "height": null,
            "justify_content": null,
            "justify_items": null,
            "left": null,
            "margin": null,
            "max_height": null,
            "max_width": null,
            "min_height": null,
            "min_width": null,
            "object_fit": null,
            "object_position": null,
            "order": null,
            "overflow": null,
            "overflow_x": null,
            "overflow_y": null,
            "padding": null,
            "right": null,
            "top": null,
            "visibility": null,
            "width": null
          }
        },
        "27154aea83034186a214adf843d5cbdf": {
          "model_module": "@jupyter-widgets/base",
          "model_name": "LayoutModel",
          "model_module_version": "1.2.0",
          "state": {
            "_model_module": "@jupyter-widgets/base",
            "_model_module_version": "1.2.0",
            "_model_name": "LayoutModel",
            "_view_count": null,
            "_view_module": "@jupyter-widgets/base",
            "_view_module_version": "1.2.0",
            "_view_name": "LayoutView",
            "align_content": null,
            "align_items": null,
            "align_self": null,
            "border": null,
            "bottom": null,
            "display": null,
            "flex": null,
            "flex_flow": null,
            "grid_area": null,
            "grid_auto_columns": null,
            "grid_auto_flow": null,
            "grid_auto_rows": null,
            "grid_column": null,
            "grid_gap": null,
            "grid_row": null,
            "grid_template_areas": null,
            "grid_template_columns": null,
            "grid_template_rows": null,
            "height": null,
            "justify_content": null,
            "justify_items": null,
            "left": null,
            "margin": null,
            "max_height": null,
            "max_width": null,
            "min_height": null,
            "min_width": null,
            "object_fit": null,
            "object_position": null,
            "order": null,
            "overflow": null,
            "overflow_x": null,
            "overflow_y": null,
            "padding": null,
            "right": null,
            "top": null,
            "visibility": null,
            "width": null
          }
        },
        "b5868efa04684a8d9935814baa4da491": {
          "model_module": "@jupyter-widgets/controls",
          "model_name": "DescriptionStyleModel",
          "model_module_version": "1.5.0",
          "state": {
            "_model_module": "@jupyter-widgets/controls",
            "_model_module_version": "1.5.0",
            "_model_name": "DescriptionStyleModel",
            "_view_count": null,
            "_view_module": "@jupyter-widgets/base",
            "_view_module_version": "1.2.0",
            "_view_name": "StyleView",
            "description_width": ""
          }
        },
        "99c67c01d40f48eaba89cf91e0ec8842": {
          "model_module": "@jupyter-widgets/base",
          "model_name": "LayoutModel",
          "model_module_version": "1.2.0",
          "state": {
            "_model_module": "@jupyter-widgets/base",
            "_model_module_version": "1.2.0",
            "_model_name": "LayoutModel",
            "_view_count": null,
            "_view_module": "@jupyter-widgets/base",
            "_view_module_version": "1.2.0",
            "_view_name": "LayoutView",
            "align_content": null,
            "align_items": null,
            "align_self": null,
            "border": null,
            "bottom": null,
            "display": null,
            "flex": null,
            "flex_flow": null,
            "grid_area": null,
            "grid_auto_columns": null,
            "grid_auto_flow": null,
            "grid_auto_rows": null,
            "grid_column": null,
            "grid_gap": null,
            "grid_row": null,
            "grid_template_areas": null,
            "grid_template_columns": null,
            "grid_template_rows": null,
            "height": null,
            "justify_content": null,
            "justify_items": null,
            "left": null,
            "margin": null,
            "max_height": null,
            "max_width": null,
            "min_height": null,
            "min_width": null,
            "object_fit": null,
            "object_position": null,
            "order": null,
            "overflow": null,
            "overflow_x": null,
            "overflow_y": null,
            "padding": null,
            "right": null,
            "top": null,
            "visibility": null,
            "width": null
          }
        },
        "ed25eb1f7dcc4f0496719d2546b39ce7": {
          "model_module": "@jupyter-widgets/controls",
          "model_name": "ProgressStyleModel",
          "model_module_version": "1.5.0",
          "state": {
            "_model_module": "@jupyter-widgets/controls",
            "_model_module_version": "1.5.0",
            "_model_name": "ProgressStyleModel",
            "_view_count": null,
            "_view_module": "@jupyter-widgets/base",
            "_view_module_version": "1.2.0",
            "_view_name": "StyleView",
            "bar_color": null,
            "description_width": ""
          }
        },
        "35d2eb270e4f4b62b2f55150abb361eb": {
          "model_module": "@jupyter-widgets/base",
          "model_name": "LayoutModel",
          "model_module_version": "1.2.0",
          "state": {
            "_model_module": "@jupyter-widgets/base",
            "_model_module_version": "1.2.0",
            "_model_name": "LayoutModel",
            "_view_count": null,
            "_view_module": "@jupyter-widgets/base",
            "_view_module_version": "1.2.0",
            "_view_name": "LayoutView",
            "align_content": null,
            "align_items": null,
            "align_self": null,
            "border": null,
            "bottom": null,
            "display": null,
            "flex": null,
            "flex_flow": null,
            "grid_area": null,
            "grid_auto_columns": null,
            "grid_auto_flow": null,
            "grid_auto_rows": null,
            "grid_column": null,
            "grid_gap": null,
            "grid_row": null,
            "grid_template_areas": null,
            "grid_template_columns": null,
            "grid_template_rows": null,
            "height": null,
            "justify_content": null,
            "justify_items": null,
            "left": null,
            "margin": null,
            "max_height": null,
            "max_width": null,
            "min_height": null,
            "min_width": null,
            "object_fit": null,
            "object_position": null,
            "order": null,
            "overflow": null,
            "overflow_x": null,
            "overflow_y": null,
            "padding": null,
            "right": null,
            "top": null,
            "visibility": null,
            "width": null
          }
        },
        "fd4dd9e08d61408ab2ba7b07ce9c2b75": {
          "model_module": "@jupyter-widgets/controls",
          "model_name": "DescriptionStyleModel",
          "model_module_version": "1.5.0",
          "state": {
            "_model_module": "@jupyter-widgets/controls",
            "_model_module_version": "1.5.0",
            "_model_name": "DescriptionStyleModel",
            "_view_count": null,
            "_view_module": "@jupyter-widgets/base",
            "_view_module_version": "1.2.0",
            "_view_name": "StyleView",
            "description_width": ""
          }
        }
      }
    }
  },
  "cells": [
    {
      "cell_type": "code",
      "execution_count": 6,
      "metadata": {
        "colab": {
          "base_uri": "https://localhost:8080/"
        },
        "id": "E4j12ssbX0pb",
        "outputId": "aee4b51f-a6ad-4efd-dbd3-2e853f20ad32"
      },
      "outputs": [
        {
          "output_type": "stream",
          "name": "stdout",
          "text": [
            "Collecting sentence-transformers\n",
            "  Downloading sentence_transformers-2.5.1-py3-none-any.whl (156 kB)\n",
            "\u001b[2K     \u001b[90m━━━━━━━━━━━━━━━━━━━━━━━━━━━━━━━━━━━━━━━━\u001b[0m \u001b[32m156.5/156.5 kB\u001b[0m \u001b[31m1.6 MB/s\u001b[0m eta \u001b[36m0:00:00\u001b[0m\n",
            "\u001b[?25hRequirement already satisfied: transformers<5.0.0,>=4.32.0 in /usr/local/lib/python3.10/dist-packages (from sentence-transformers) (4.38.2)\n",
            "Requirement already satisfied: tqdm in /usr/local/lib/python3.10/dist-packages (from sentence-transformers) (4.66.2)\n",
            "Requirement already satisfied: torch>=1.11.0 in /usr/local/lib/python3.10/dist-packages (from sentence-transformers) (2.2.1+cu121)\n",
            "Requirement already satisfied: numpy in /usr/local/lib/python3.10/dist-packages (from sentence-transformers) (1.25.2)\n",
            "Requirement already satisfied: scikit-learn in /usr/local/lib/python3.10/dist-packages (from sentence-transformers) (1.2.2)\n",
            "Requirement already satisfied: scipy in /usr/local/lib/python3.10/dist-packages (from sentence-transformers) (1.11.4)\n",
            "Requirement already satisfied: huggingface-hub>=0.15.1 in /usr/local/lib/python3.10/dist-packages (from sentence-transformers) (0.20.3)\n",
            "Requirement already satisfied: Pillow in /usr/local/lib/python3.10/dist-packages (from sentence-transformers) (9.4.0)\n",
            "Requirement already satisfied: filelock in /usr/local/lib/python3.10/dist-packages (from huggingface-hub>=0.15.1->sentence-transformers) (3.13.1)\n",
            "Requirement already satisfied: fsspec>=2023.5.0 in /usr/local/lib/python3.10/dist-packages (from huggingface-hub>=0.15.1->sentence-transformers) (2023.6.0)\n",
            "Requirement already satisfied: requests in /usr/local/lib/python3.10/dist-packages (from huggingface-hub>=0.15.1->sentence-transformers) (2.31.0)\n",
            "Requirement already satisfied: pyyaml>=5.1 in /usr/local/lib/python3.10/dist-packages (from huggingface-hub>=0.15.1->sentence-transformers) (6.0.1)\n",
            "Requirement already satisfied: typing-extensions>=3.7.4.3 in /usr/local/lib/python3.10/dist-packages (from huggingface-hub>=0.15.1->sentence-transformers) (4.10.0)\n",
            "Requirement already satisfied: packaging>=20.9 in /usr/local/lib/python3.10/dist-packages (from huggingface-hub>=0.15.1->sentence-transformers) (24.0)\n",
            "Requirement already satisfied: sympy in /usr/local/lib/python3.10/dist-packages (from torch>=1.11.0->sentence-transformers) (1.12)\n",
            "Requirement already satisfied: networkx in /usr/local/lib/python3.10/dist-packages (from torch>=1.11.0->sentence-transformers) (3.2.1)\n",
            "Requirement already satisfied: jinja2 in /usr/local/lib/python3.10/dist-packages (from torch>=1.11.0->sentence-transformers) (3.1.3)\n",
            "Requirement already satisfied: nvidia-cuda-nvrtc-cu12==12.1.105 in /usr/local/lib/python3.10/dist-packages (from torch>=1.11.0->sentence-transformers) (12.1.105)\n",
            "Requirement already satisfied: nvidia-cuda-runtime-cu12==12.1.105 in /usr/local/lib/python3.10/dist-packages (from torch>=1.11.0->sentence-transformers) (12.1.105)\n",
            "Requirement already satisfied: nvidia-cuda-cupti-cu12==12.1.105 in /usr/local/lib/python3.10/dist-packages (from torch>=1.11.0->sentence-transformers) (12.1.105)\n",
            "Requirement already satisfied: nvidia-cudnn-cu12==8.9.2.26 in /usr/local/lib/python3.10/dist-packages (from torch>=1.11.0->sentence-transformers) (8.9.2.26)\n",
            "Requirement already satisfied: nvidia-cublas-cu12==12.1.3.1 in /usr/local/lib/python3.10/dist-packages (from torch>=1.11.0->sentence-transformers) (12.1.3.1)\n",
            "Requirement already satisfied: nvidia-cufft-cu12==11.0.2.54 in /usr/local/lib/python3.10/dist-packages (from torch>=1.11.0->sentence-transformers) (11.0.2.54)\n",
            "Requirement already satisfied: nvidia-curand-cu12==10.3.2.106 in /usr/local/lib/python3.10/dist-packages (from torch>=1.11.0->sentence-transformers) (10.3.2.106)\n",
            "Requirement already satisfied: nvidia-cusolver-cu12==11.4.5.107 in /usr/local/lib/python3.10/dist-packages (from torch>=1.11.0->sentence-transformers) (11.4.5.107)\n",
            "Requirement already satisfied: nvidia-cusparse-cu12==12.1.0.106 in /usr/local/lib/python3.10/dist-packages (from torch>=1.11.0->sentence-transformers) (12.1.0.106)\n",
            "Requirement already satisfied: nvidia-nccl-cu12==2.19.3 in /usr/local/lib/python3.10/dist-packages (from torch>=1.11.0->sentence-transformers) (2.19.3)\n",
            "Requirement already satisfied: nvidia-nvtx-cu12==12.1.105 in /usr/local/lib/python3.10/dist-packages (from torch>=1.11.0->sentence-transformers) (12.1.105)\n",
            "Requirement already satisfied: triton==2.2.0 in /usr/local/lib/python3.10/dist-packages (from torch>=1.11.0->sentence-transformers) (2.2.0)\n",
            "Requirement already satisfied: nvidia-nvjitlink-cu12 in /usr/local/lib/python3.10/dist-packages (from nvidia-cusolver-cu12==11.4.5.107->torch>=1.11.0->sentence-transformers) (12.4.99)\n",
            "Requirement already satisfied: regex!=2019.12.17 in /usr/local/lib/python3.10/dist-packages (from transformers<5.0.0,>=4.32.0->sentence-transformers) (2023.12.25)\n",
            "Requirement already satisfied: tokenizers<0.19,>=0.14 in /usr/local/lib/python3.10/dist-packages (from transformers<5.0.0,>=4.32.0->sentence-transformers) (0.15.2)\n",
            "Requirement already satisfied: safetensors>=0.4.1 in /usr/local/lib/python3.10/dist-packages (from transformers<5.0.0,>=4.32.0->sentence-transformers) (0.4.2)\n",
            "Requirement already satisfied: joblib>=1.1.1 in /usr/local/lib/python3.10/dist-packages (from scikit-learn->sentence-transformers) (1.3.2)\n",
            "Requirement already satisfied: threadpoolctl>=2.0.0 in /usr/local/lib/python3.10/dist-packages (from scikit-learn->sentence-transformers) (3.3.0)\n",
            "Requirement already satisfied: MarkupSafe>=2.0 in /usr/local/lib/python3.10/dist-packages (from jinja2->torch>=1.11.0->sentence-transformers) (2.1.5)\n",
            "Requirement already satisfied: charset-normalizer<4,>=2 in /usr/local/lib/python3.10/dist-packages (from requests->huggingface-hub>=0.15.1->sentence-transformers) (3.3.2)\n",
            "Requirement already satisfied: idna<4,>=2.5 in /usr/local/lib/python3.10/dist-packages (from requests->huggingface-hub>=0.15.1->sentence-transformers) (3.6)\n",
            "Requirement already satisfied: urllib3<3,>=1.21.1 in /usr/local/lib/python3.10/dist-packages (from requests->huggingface-hub>=0.15.1->sentence-transformers) (2.0.7)\n",
            "Requirement already satisfied: certifi>=2017.4.17 in /usr/local/lib/python3.10/dist-packages (from requests->huggingface-hub>=0.15.1->sentence-transformers) (2024.2.2)\n",
            "Requirement already satisfied: mpmath>=0.19 in /usr/local/lib/python3.10/dist-packages (from sympy->torch>=1.11.0->sentence-transformers) (1.3.0)\n",
            "Installing collected packages: sentence-transformers\n",
            "Successfully installed sentence-transformers-2.5.1\n"
          ]
        }
      ],
      "source": [
        "pip install -U sentence-transformers\n"
      ]
    },
    {
      "cell_type": "code",
      "source": [
        "from sentence_transformers import SentenceTransformer, util\n"
      ],
      "metadata": {
        "id": "AIFvUJmBX-x5"
      },
      "execution_count": 7,
      "outputs": []
    },
    {
      "cell_type": "code",
      "source": [
        "corpus = [\n",
        "     \"I have abdominal discomfort, what treatment should i take ? Abdominal symptom\",\n",
        "     \"I have severe throat pain, can you suggest some remedies?Respiratory system symptom  \",\n",
        "     \"i feel so irritated when i am tensed, why is that so? Cognition, perception, emotional state and behavior system symptom\",\n",
        "     \"what are the symptoms of jaundice? Skin symptom\",\n",
        "     \"I have constipation issues what remedies can i take? feces symptom\"\n",
        "]\n"
      ],
      "metadata": {
        "id": "zIB6YACCYprX"
      },
      "execution_count": 33,
      "outputs": []
    },
    {
      "cell_type": "code",
      "source": [
        "model = SentenceTransformer('bert-base-uncased')"
      ],
      "metadata": {
        "colab": {
          "base_uri": "https://localhost:8080/",
          "height": 324,
          "referenced_widgets": [
            "13ed97166a9f4bc58645ac356abd8f36",
            "5fa9bfc0501a4a1682ca7d8a1c4d110c",
            "afaafee1b34d47bfa1e65100b9256b8e",
            "bf3ef205ae3e4c1f9685964a35163cc1",
            "9eb0432f51db46ebb1cdaca28ba185d4",
            "b3d0dcabd89249cb88322993e08cad9b",
            "01dbb7179af848afab95b757cc6bcf6d",
            "ec0fa9d0c9bb42eab321c2c9e6cde2a6",
            "e89adf19b9ed4f85969c6a63017f8d34",
            "4e1f5dc69aac4a35b96b2a06faae8a49",
            "3099792e1c0b47c29fb8f25c011c6747",
            "2a1c616e799c4f5da20e1cf2b9948701",
            "27c6fc2a8d124b39909d1e4b303b43e6",
            "c6f947218a4c46edbf31e19d7ccbe9e3",
            "f57fec9e59a649c3bcc10cc5dbc0fd0f",
            "871c9d10ed8d45038e5835b644e05e6f",
            "a1dc1aa1821049f1a26cf77c3965c58a",
            "5e4e60e4f6e04e1dac6cee861351a004",
            "57012b6b49bd4a3396d31fae529e4dd1",
            "56a770e57df1467098da37c92a921d79",
            "4de5b6a3957e43e9b868582a7504d0c6",
            "3167c9977af14f0b9e9c735780d20a87",
            "18974b86d0204ad889397d4544e19228",
            "d4beb0e4bd3f4da19acb5bc1e090fd5c",
            "4f7a54d3bb6b4982b3f76acb792cd6b1",
            "c1390b3f5e68465fb002c53d43deacf5",
            "ca097d33ad404569b1a4fb4b5fd53274",
            "fbed9eff57b848cf8df6b29e383985ff",
            "469cad3e01334c0e8b4c53fa603c5ce2",
            "04f94d9dda18450997d9c07547fd9003",
            "8804fbe8df8a4c6a9683d7dfa0e08647",
            "1930eb039e954812bc7ecd8e6dd84f80",
            "4217f131d49f4443b9ac694b6264ddac",
            "c5e5abf7c08f45289d26c4d16b16f356",
            "7a0dce2709864b31b341561c3e432177",
            "b553e9a8f8e8423e81c5c0de96e7167e",
            "4216cb9bc295410485a02cfdd5e796b8",
            "c3a903859b204133bc7b79c039597eac",
            "6ba5651c08dc4e6baf3cc3aaf1ef2f6a",
            "6497b32722d04f4da801a02dfb3d30bc",
            "34e3a82e39db44b58ff2610c7b0522da",
            "2b69220de29449c4a78d6dc8a4a63839",
            "e3e5f73ea0274b198684745b74c6b7de",
            "7a7b5b425bd648efada830341c14909d",
            "daac3392ed954fcfae605a16d87b9060",
            "5c6996bdc1184c7bb1c7be29824a3715",
            "2e4cdcd16f1644a6889fca5d658ac7b6",
            "9a71e8ba45ac456caaf899c507d53416",
            "0a688cdf5dc449579b59bde0ec40215b",
            "27154aea83034186a214adf843d5cbdf",
            "b5868efa04684a8d9935814baa4da491",
            "99c67c01d40f48eaba89cf91e0ec8842",
            "ed25eb1f7dcc4f0496719d2546b39ce7",
            "35d2eb270e4f4b62b2f55150abb361eb",
            "fd4dd9e08d61408ab2ba7b07ce9c2b75"
          ]
        },
        "id": "LRhfovGwYtQV",
        "outputId": "99dcdc75-9ee9-4f37-eaf3-df99d5548882"
      },
      "execution_count": 9,
      "outputs": [
        {
          "output_type": "stream",
          "name": "stderr",
          "text": [
            "/usr/local/lib/python3.10/dist-packages/huggingface_hub/utils/_token.py:88: UserWarning: \n",
            "The secret `HF_TOKEN` does not exist in your Colab secrets.\n",
            "To authenticate with the Hugging Face Hub, create a token in your settings tab (https://huggingface.co/settings/tokens), set it as secret in your Google Colab and restart your session.\n",
            "You will be able to reuse this secret in all of your notebooks.\n",
            "Please note that authentication is recommended but still optional to access public models or datasets.\n",
            "  warnings.warn(\n",
            "WARNING:sentence_transformers.SentenceTransformer:No sentence-transformers model found with name bert-base-uncased. Creating a new one with MEAN pooling.\n"
          ]
        },
        {
          "output_type": "display_data",
          "data": {
            "text/plain": [
              "config.json:   0%|          | 0.00/570 [00:00<?, ?B/s]"
            ],
            "application/vnd.jupyter.widget-view+json": {
              "version_major": 2,
              "version_minor": 0,
              "model_id": "13ed97166a9f4bc58645ac356abd8f36"
            }
          },
          "metadata": {}
        },
        {
          "output_type": "display_data",
          "data": {
            "text/plain": [
              "model.safetensors:   0%|          | 0.00/440M [00:00<?, ?B/s]"
            ],
            "application/vnd.jupyter.widget-view+json": {
              "version_major": 2,
              "version_minor": 0,
              "model_id": "2a1c616e799c4f5da20e1cf2b9948701"
            }
          },
          "metadata": {}
        },
        {
          "output_type": "display_data",
          "data": {
            "text/plain": [
              "tokenizer_config.json:   0%|          | 0.00/48.0 [00:00<?, ?B/s]"
            ],
            "application/vnd.jupyter.widget-view+json": {
              "version_major": 2,
              "version_minor": 0,
              "model_id": "18974b86d0204ad889397d4544e19228"
            }
          },
          "metadata": {}
        },
        {
          "output_type": "display_data",
          "data": {
            "text/plain": [
              "vocab.txt:   0%|          | 0.00/232k [00:00<?, ?B/s]"
            ],
            "application/vnd.jupyter.widget-view+json": {
              "version_major": 2,
              "version_minor": 0,
              "model_id": "c5e5abf7c08f45289d26c4d16b16f356"
            }
          },
          "metadata": {}
        },
        {
          "output_type": "display_data",
          "data": {
            "text/plain": [
              "tokenizer.json:   0%|          | 0.00/466k [00:00<?, ?B/s]"
            ],
            "application/vnd.jupyter.widget-view+json": {
              "version_major": 2,
              "version_minor": 0,
              "model_id": "daac3392ed954fcfae605a16d87b9060"
            }
          },
          "metadata": {}
        }
      ]
    },
    {
      "cell_type": "code",
      "source": [
        "embeddings = model.encode(corpus)\n",
        "print(embeddings)"
      ],
      "metadata": {
        "colab": {
          "base_uri": "https://localhost:8080/"
        },
        "id": "xMnhbgQkYv9V",
        "outputId": "5a111213-4e91-467a-c1d3-fae408deff13"
      },
      "execution_count": 10,
      "outputs": [
        {
          "output_type": "stream",
          "name": "stdout",
          "text": [
            "[[-0.18496549  0.43594727  0.03187034 ... -0.20791379 -0.27729997\n",
            "  -0.18186803]\n",
            " [-0.14009167  0.10812961  0.18472186 ... -0.314485   -0.21632464\n",
            "  -0.09480809]\n",
            " [-0.15672371  0.21311529  0.17139867 ... -0.5013198  -0.3114688\n",
            "   0.26545233]\n",
            " [ 0.10826007  0.13439028  0.12988628 ... -0.32817554 -0.26628268\n",
            "  -0.17536665]\n",
            " [ 0.01656944  0.17185035  0.32652178 ... -0.24175516 -0.3057462\n",
            "  -0.23838195]]\n"
          ]
        }
      ]
    },
    {
      "cell_type": "code",
      "source": [
        "search_query = [\" According to the context provided, if you have abdominal discomfort, you should first get diagnosed to determine the cause of your symptoms. This may include a clinical history, examination, and various tests. Once a diagnosis of acute viral hepatitis is confirmed, treatment may include maintaining adequate intake of fluids and taking medication for severe nausea or vomiting. However, it is important to consult a healthcare professional for personalized treatment advice.\",\n",
        "                \"According to the context provided, the standard treatment guidelines for sore throat include early and adequate treatment, avoiding contact with sore throat cases, and environmental modifications such as avoiding overcrowding. It is also important to explain the consequences of rheumatic fever and ensure monitoring for residual valvular involvement and compliance with prophylaxis. If there is valvular involvement, it is recommended to report to a cardiologist for evaluation and further management. It is also important to explain the importance of prophylaxis against rheumatic carditis. Additionally, it is recommended to reference the following resources for more information: 1. Rheumatic Fever. In: Nelson’s Textbook of Paediatrics. Behrman RE, Kliegman RM, Jenson HB (eds), 19th Edition, Harcourt Publishers International Company, 2011; pp 921-925. 2. Consensus guidelines on pediatric acute rheumatic fever and rheumatic heart disease. Working Group on Pediatric Acute Rheumatic Fever and Cardiology Chapter of Indian Academy of Pediatrics. Indian Pediatrics 2008; 45: 565-573. It is also important to note that this context does not specifically mention remedies for throat pain, so it is best to consult with a healthcare professional for personalized\",\n",
        "                \"There could be multiple reasons for feeling irritated when you are tense. It could be due to increased levels of stress hormones, difficulty in managing emotions, or underlying psychological factors. It is important to identify the root cause of your tension and find healthy coping mechanisms to manage it. Seeking professional help may also be beneficial in understanding and addressing this issue.\",\n",
        "                \" Jaundice is a condition where the skin and whites of the eyes appear yellow due to high levels of bilirubin in the blood. Other symptoms may include dark urine, pale stools, fatigue, and abdominal pain.\",\n",
        "                \"First, it is important to drink plenty of water and eat a high-fiber diet to help soften stools and make them easier to pass. Adding more fruits, vegetables, and whole grains to your diet can also help. You can also try over-the-counter laxatives or stool softeners, but be sure to follow the instructions carefully and not use them for extended periods of time. If your constipation persists, it is best to consult with a doctor for further advice and treatment options.\"]\n",
        "search_query_encode = model.encode(search_query)"
      ],
      "metadata": {
        "id": "L0IogzJmY3rv"
      },
      "execution_count": 11,
      "outputs": []
    },
    {
      "cell_type": "code",
      "source": [
        "search_query_encode"
      ],
      "metadata": {
        "colab": {
          "base_uri": "https://localhost:8080/"
        },
        "id": "UvuyS3brbjaQ",
        "outputId": "31528482-3af8-4cd1-f101-637772898f59"
      },
      "execution_count": 12,
      "outputs": [
        {
          "output_type": "execute_result",
          "data": {
            "text/plain": [
              "array([[-0.18994589,  0.46693566, -0.00606557, ..., -0.1656298 ,\n",
              "        -0.20223422,  0.05423787],\n",
              "       [-0.44537592,  0.22332944,  0.01010234, ...,  0.0523971 ,\n",
              "        -0.05660053,  0.0047941 ],\n",
              "       [-0.26337066,  0.3513575 ,  0.03453416, ..., -0.187791  ,\n",
              "        -0.49117672,  0.10661222],\n",
              "       [-0.15340479,  0.35872176,  0.16121209, ..., -0.20810433,\n",
              "        -0.21400015,  0.14204633],\n",
              "       [-0.18635008,  0.1632777 ,  0.01565281, ...,  0.05810029,\n",
              "        -0.20012414, -0.15968485]], dtype=float32)"
            ]
          },
          "metadata": {},
          "execution_count": 12
        }
      ]
    },
    {
      "cell_type": "markdown",
      "source": [
        "# **Contextual Obedience**"
      ],
      "metadata": {
        "id": "Evhzq7xVOcXO"
      }
    },
    {
      "cell_type": "markdown",
      "source": [
        "cosine similarity"
      ],
      "metadata": {
        "id": "UzVD1kJ3J_AF"
      }
    },
    {
      "cell_type": "code",
      "source": [
        "cos_sim=[]\n",
        "for i in range(len(search_query_encode)):\n",
        "  cos_sim.append(util.cos_sim(search_query_encode[i], embeddings[i]))\n",
        "print(cos_sim)"
      ],
      "metadata": {
        "colab": {
          "base_uri": "https://localhost:8080/"
        },
        "id": "_BQhjlZ9Y6jN",
        "outputId": "800e3c09-6050-4d19-a84b-e822daff4e44"
      },
      "execution_count": 13,
      "outputs": [
        {
          "output_type": "stream",
          "name": "stdout",
          "text": [
            "[tensor([[0.7539]]), tensor([[0.6806]]), tensor([[0.7881]]), tensor([[0.7961]]), tensor([[0.7238]])]\n"
          ]
        }
      ]
    },
    {
      "cell_type": "code",
      "source": [
        "cos_sum=0\n",
        "for i in range(len(cos_sim)):\n",
        "      cos_sum+=cos_sim[i]\n",
        "avg=cos_sum/len(cos_sim)\n",
        "print(avg)"
      ],
      "metadata": {
        "colab": {
          "base_uri": "https://localhost:8080/"
        },
        "id": "phgaQjASgyMK",
        "outputId": "07d3409e-ea69-40dc-955b-497d077920ee"
      },
      "execution_count": 14,
      "outputs": [
        {
          "output_type": "stream",
          "name": "stdout",
          "text": [
            "tensor([[0.7485]])\n"
          ]
        }
      ]
    },
    {
      "cell_type": "code",
      "source": [
        "corpus2 = [\n",
        "     \"I have abdominal discomfort, what treatment should i take ?\",\n",
        "    \"I have severe throat pain, can you suggest some remedies? \",\n",
        "    \"i feel so irritated when i am tensed, why is that so? \",\n",
        "     \"what are the symptoms of jaundice?\",\n",
        "     \"I have constipation issues what remedies can i take?\"\n",
        "]"
      ],
      "metadata": {
        "id": "EyRt76eOZDDe"
      },
      "execution_count": 36,
      "outputs": []
    },
    {
      "cell_type": "code",
      "source": [
        "embeddings2 = model.encode(corpus2)\n",
        "print(embeddings2)"
      ],
      "metadata": {
        "colab": {
          "base_uri": "https://localhost:8080/"
        },
        "id": "EkjqSABCdmKj",
        "outputId": "66167010-56af-47a0-d188-655bf189e6fb"
      },
      "execution_count": 16,
      "outputs": [
        {
          "output_type": "stream",
          "name": "stdout",
          "text": [
            "[[-0.13451852  0.41303316 -0.11611668 ... -0.14887924 -0.12667015\n",
            "  -0.04241635]\n",
            " [-0.18660617 -0.09498046  0.05215637 ... -0.274625   -0.18879424\n",
            "   0.05936385]\n",
            " [-0.24505186  0.06759724  0.10276301 ... -0.229556   -0.17322451\n",
            "   0.3849916 ]\n",
            " [ 0.03538868  0.08684346  0.14994563 ... -0.30097303 -0.0835778\n",
            "  -0.09559405]\n",
            " [ 0.07306249  0.10037559  0.08234847 ... -0.28296503 -0.39162782\n",
            "  -0.11644267]]\n"
          ]
        }
      ]
    },
    {
      "cell_type": "code",
      "source": [
        "print(embeddings2[0].shape)"
      ],
      "metadata": {
        "colab": {
          "base_uri": "https://localhost:8080/"
        },
        "id": "iuc9ayiBwVEF",
        "outputId": "7126e30b-56d7-414c-e0b9-2a6d7a6fdd7d"
      },
      "execution_count": 17,
      "outputs": [
        {
          "output_type": "stream",
          "name": "stdout",
          "text": [
            "(768,)\n"
          ]
        }
      ]
    },
    {
      "cell_type": "code",
      "source": [
        "search_query2= [\"It is not possible to determine the appropriate treatment for your abdominal discomfort without a proper medical evaluation. It is important to consult a doctor for a proper diagnosis and treatment plan. The treatment for abdominal discomfort may vary depending on the underlying cause.\",\n",
        "                \"According to the context provided, the standard treatment guidelines recommend early and adequate treatment of sore throat. It is also important to avoid contact with sore throat cases and environmental modifications, such as avoiding overcrowding. It is also important to explain the consequences of rheumatic fever and ensure monitoring for any residual valvular involvement and compliance with prophylaxis. If there is valvular involvement, it is recommended to report to a cardiologist for evaluation and further management. It is also important to follow the recommended prophylaxis against rheumatic carditis. It is best to consult a doctor for a proper diagnosis and treatment plan for your specific case.\",\n",
        "                \"I don't know the answer to that question. It could be due to a variety of factors, such as increased levels of stress hormones or a heightened state of arousal. It's best to consult with a medical professional or therapist to discuss your specific symptoms and concerns.\",\n",
        "                \"Jaundice is characterized by yellow discoloration of the skin, sclera, and tissues due to increased levels of bilirubin in the bloodstream. Other symptoms may include nausea, vomiting, anorexia, fever, abdominal pain, and changes in urine and stool color. In some cases, there may also be fatigue, weakness, and itching.\",\n",
        "                \"There are several remedies you can try for constipation:\\n\\n1. Increase your fiber intake: Foods high in fiber, such as fruits, vegetables, whole grains, and legumes, can help soften your stools and make them easier to pass.\\n\\n2. Stay hydrated: Drinking plenty of water and other fluids can help keep your stools soft and prevent constipation.\\n\\n3. Exercise regularly: Regular physical activity can help stimulate your digestive system and prevent constipation.\\n\\n4. Try over-the-counter laxatives: There are various types of laxatives available, such as stool softeners, bulk-forming agents, and stimulant laxatives, that can help relieve constipation.\\n\\n5. Use natural remedies: Some natural remedies, such as prunes, flaxseed, and aloe vera, have been shown to have a laxative effect and may help with constipation.\\n\\nIt's always a good idea to consult with your doctor before trying any new remedies, especially if you have a pre-existing medical condition or are taking any medications. They can provide personalized recommendations and ensure that the remedies you choose are safe for you.\"\n",
        "                ]\n",
        "\n",
        "search_query_encode2 = model.encode(search_query2)"
      ],
      "metadata": {
        "id": "nn2KJzfOdAXZ"
      },
      "execution_count": 18,
      "outputs": []
    },
    {
      "cell_type": "code",
      "source": [
        "print(search_query_encode2)"
      ],
      "metadata": {
        "colab": {
          "base_uri": "https://localhost:8080/"
        },
        "id": "6faXrIGodZyz",
        "outputId": "d68c9f32-a847-4033-f6e0-d9eb6d0dc8d4"
      },
      "execution_count": 19,
      "outputs": [
        {
          "output_type": "stream",
          "name": "stdout",
          "text": [
            "[[-0.17317535  0.4252674  -0.11352005 ... -0.12537882 -0.24209481\n",
            "   0.18926428]\n",
            " [-0.30381185  0.31861216 -0.06397402 ... -0.09811147 -0.13171948\n",
            "   0.10204306]\n",
            " [ 0.09536769  0.33454353 -0.00698984 ... -0.34333587 -0.3342223\n",
            "   0.1027146 ]\n",
            " [-0.1610336   0.3149842   0.17147185 ... -0.1018177  -0.20180954\n",
            "   0.14183906]\n",
            " [-0.29631084  0.03952004  0.22621779 ... -0.04159171 -0.30915594\n",
            "  -0.06919305]]\n"
          ]
        }
      ]
    },
    {
      "cell_type": "code",
      "source": [
        "print(search_query_encode2[0].shape)"
      ],
      "metadata": {
        "colab": {
          "base_uri": "https://localhost:8080/"
        },
        "id": "f05kevikwH2n",
        "outputId": "acc6c0bd-ec59-439c-c618-7b7b027731c7"
      },
      "execution_count": 20,
      "outputs": [
        {
          "output_type": "stream",
          "name": "stdout",
          "text": [
            "(768,)\n"
          ]
        }
      ]
    },
    {
      "cell_type": "code",
      "source": [
        "cos_sim_normal=[]\n",
        "for i in range(len(search_query_encode2)):\n",
        "  cos_sim_normal.append(util.cos_sim(search_query_encode2[i], embeddings2[i]))\n",
        "print(cos_sim_normal)"
      ],
      "metadata": {
        "colab": {
          "base_uri": "https://localhost:8080/"
        },
        "id": "1whs35Gcdc4f",
        "outputId": "584dc389-cd1b-4b17-a08f-083a0f30dda5"
      },
      "execution_count": 21,
      "outputs": [
        {
          "output_type": "stream",
          "name": "stdout",
          "text": [
            "[tensor([[0.7024]]), tensor([[0.6406]]), tensor([[0.6309]]), tensor([[0.7365]]), tensor([[0.7137]])]\n"
          ]
        }
      ]
    },
    {
      "cell_type": "code",
      "source": [
        "cos_sum_normal=0\n",
        "for i in range(len(cos_sim_normal)):\n",
        "      cos_sum_normal+=cos_sim_normal[i]\n",
        "avg_normal=cos_sum_normal/len(cos_sim_normal)\n",
        "print(avg_normal)"
      ],
      "metadata": {
        "colab": {
          "base_uri": "https://localhost:8080/"
        },
        "id": "d3YI5nxqdsW0",
        "outputId": "6c732e71-667e-40c1-bee8-6fbca45decca"
      },
      "execution_count": 22,
      "outputs": [
        {
          "output_type": "stream",
          "name": "stdout",
          "text": [
            "tensor([[0.6848]])\n"
          ]
        }
      ]
    },
    {
      "cell_type": "code",
      "source": [],
      "metadata": {
        "id": "W20Xxnw9oxXr"
      },
      "execution_count": 22,
      "outputs": []
    },
    {
      "cell_type": "markdown",
      "source": [
        "Dot score"
      ],
      "metadata": {
        "id": "FfAV4ziFpKr7"
      }
    },
    {
      "cell_type": "code",
      "source": [
        "dot_score_onto=[]\n",
        "for i in range(len(search_query_encode)):\n",
        "  dot_score_onto.append(util.dot_score(search_query_encode[i], embeddings[i]))\n",
        "print(dot_score_onto)"
      ],
      "metadata": {
        "colab": {
          "base_uri": "https://localhost:8080/"
        },
        "id": "qZe0qOkppMMx",
        "outputId": "c3ab7f8a-6ad0-45df-ca44-eb6c1e8c30c8"
      },
      "execution_count": 23,
      "outputs": [
        {
          "output_type": "stream",
          "name": "stdout",
          "text": [
            "[tensor([[64.7221]]), tensor([[57.1839]]), tensor([[75.6030]]), tensor([[76.4955]]), tensor([[62.8754]])]\n"
          ]
        }
      ]
    },
    {
      "cell_type": "code",
      "source": [
        "dot_score_onto_sum=0\n",
        "for i in range(len(dot_score_onto)):\n",
        "      dot_score_onto_sum+=dot_score_onto[i]\n",
        "avg_dot_onto=dot_score_onto_sum/len(dot_score_onto)\n",
        "print(avg_dot_onto)"
      ],
      "metadata": {
        "colab": {
          "base_uri": "https://localhost:8080/"
        },
        "id": "QimdeB8epZl_",
        "outputId": "53103104-fc6e-4e4e-9077-1e54f4afad11"
      },
      "execution_count": 24,
      "outputs": [
        {
          "output_type": "stream",
          "name": "stdout",
          "text": [
            "tensor([[67.3760]])\n"
          ]
        }
      ]
    },
    {
      "cell_type": "code",
      "source": [
        "dot_score_normal=[]\n",
        "for i in range(len(search_query_encode2)):\n",
        "  dot_score_normal.append(util.dot_score(search_query_encode2[i], embeddings2[i]))\n",
        "print(dot_score_normal)"
      ],
      "metadata": {
        "colab": {
          "base_uri": "https://localhost:8080/"
        },
        "id": "-97v_BfMqKcv",
        "outputId": "670a684b-5068-4339-c01d-9240041b3a86"
      },
      "execution_count": 25,
      "outputs": [
        {
          "output_type": "stream",
          "name": "stdout",
          "text": [
            "[tensor([[60.7504]]), tensor([[57.1171]]), tensor([[60.0404]]), tensor([[65.3721]]), tensor([[54.0857]])]\n"
          ]
        }
      ]
    },
    {
      "cell_type": "code",
      "source": [
        "dot_score_normal_sum=0\n",
        "for i in range(len(dot_score_normal)):\n",
        "      dot_score_normal_sum+=dot_score_normal[i]\n",
        "avg_dot_normal=dot_score_normal_sum/len(dot_score_normal)\n",
        "print(avg_dot_normal)"
      ],
      "metadata": {
        "colab": {
          "base_uri": "https://localhost:8080/"
        },
        "id": "0LA4ao9gq9e8",
        "outputId": "853b7cb4-59b9-4455-d5ab-43a3e0652eec"
      },
      "execution_count": 26,
      "outputs": [
        {
          "output_type": "stream",
          "name": "stdout",
          "text": [
            "tensor([[59.4732]])\n"
          ]
        }
      ]
    },
    {
      "cell_type": "markdown",
      "source": [
        "Euclidean"
      ],
      "metadata": {
        "id": "5ggTkBiPrqnO"
      }
    },
    {
      "cell_type": "code",
      "source": [
        "pip install torch"
      ],
      "metadata": {
        "colab": {
          "base_uri": "https://localhost:8080/"
        },
        "id": "oXmshweQunz2",
        "outputId": "6cff5026-70cb-41bf-ba63-412196f9f599"
      },
      "execution_count": 27,
      "outputs": [
        {
          "output_type": "stream",
          "name": "stdout",
          "text": [
            "Requirement already satisfied: torch in /usr/local/lib/python3.10/dist-packages (2.2.1+cu121)\n",
            "Requirement already satisfied: filelock in /usr/local/lib/python3.10/dist-packages (from torch) (3.13.1)\n",
            "Requirement already satisfied: typing-extensions>=4.8.0 in /usr/local/lib/python3.10/dist-packages (from torch) (4.10.0)\n",
            "Requirement already satisfied: sympy in /usr/local/lib/python3.10/dist-packages (from torch) (1.12)\n",
            "Requirement already satisfied: networkx in /usr/local/lib/python3.10/dist-packages (from torch) (3.2.1)\n",
            "Requirement already satisfied: jinja2 in /usr/local/lib/python3.10/dist-packages (from torch) (3.1.3)\n",
            "Requirement already satisfied: fsspec in /usr/local/lib/python3.10/dist-packages (from torch) (2023.6.0)\n",
            "Requirement already satisfied: nvidia-cuda-nvrtc-cu12==12.1.105 in /usr/local/lib/python3.10/dist-packages (from torch) (12.1.105)\n",
            "Requirement already satisfied: nvidia-cuda-runtime-cu12==12.1.105 in /usr/local/lib/python3.10/dist-packages (from torch) (12.1.105)\n",
            "Requirement already satisfied: nvidia-cuda-cupti-cu12==12.1.105 in /usr/local/lib/python3.10/dist-packages (from torch) (12.1.105)\n",
            "Requirement already satisfied: nvidia-cudnn-cu12==8.9.2.26 in /usr/local/lib/python3.10/dist-packages (from torch) (8.9.2.26)\n",
            "Requirement already satisfied: nvidia-cublas-cu12==12.1.3.1 in /usr/local/lib/python3.10/dist-packages (from torch) (12.1.3.1)\n",
            "Requirement already satisfied: nvidia-cufft-cu12==11.0.2.54 in /usr/local/lib/python3.10/dist-packages (from torch) (11.0.2.54)\n",
            "Requirement already satisfied: nvidia-curand-cu12==10.3.2.106 in /usr/local/lib/python3.10/dist-packages (from torch) (10.3.2.106)\n",
            "Requirement already satisfied: nvidia-cusolver-cu12==11.4.5.107 in /usr/local/lib/python3.10/dist-packages (from torch) (11.4.5.107)\n",
            "Requirement already satisfied: nvidia-cusparse-cu12==12.1.0.106 in /usr/local/lib/python3.10/dist-packages (from torch) (12.1.0.106)\n",
            "Requirement already satisfied: nvidia-nccl-cu12==2.19.3 in /usr/local/lib/python3.10/dist-packages (from torch) (2.19.3)\n",
            "Requirement already satisfied: nvidia-nvtx-cu12==12.1.105 in /usr/local/lib/python3.10/dist-packages (from torch) (12.1.105)\n",
            "Requirement already satisfied: triton==2.2.0 in /usr/local/lib/python3.10/dist-packages (from torch) (2.2.0)\n",
            "Requirement already satisfied: nvidia-nvjitlink-cu12 in /usr/local/lib/python3.10/dist-packages (from nvidia-cusolver-cu12==11.4.5.107->torch) (12.4.99)\n",
            "Requirement already satisfied: MarkupSafe>=2.0 in /usr/local/lib/python3.10/dist-packages (from jinja2->torch) (2.1.5)\n",
            "Requirement already satisfied: mpmath>=0.19 in /usr/local/lib/python3.10/dist-packages (from sympy->torch) (1.3.0)\n"
          ]
        }
      ]
    },
    {
      "cell_type": "code",
      "source": [
        "from scipy.spatial.distance import euclidean"
      ],
      "metadata": {
        "id": "Vo3xjaN5r5n_"
      },
      "execution_count": 28,
      "outputs": []
    },
    {
      "cell_type": "code",
      "source": [
        "eu_onto=[]\n",
        "for i in range(len(search_query_encode)):\n",
        "  eu_onto.append(euclidean(search_query_encode[i], embeddings[i]))\n",
        "print(eu_onto)"
      ],
      "metadata": {
        "colab": {
          "base_uri": "https://localhost:8080/"
        },
        "id": "k6Y7c_4Iu4ml",
        "outputId": "7cebb84a-98d0-4ac5-db0a-bc59cf5b970c"
      },
      "execution_count": 29,
      "outputs": [
        {
          "output_type": "stream",
          "name": "stdout",
          "text": [
            "[6.52841329574585, 7.795077323913574, 6.375975131988525, 6.337304592132568, 6.9408955574035645]\n"
          ]
        }
      ]
    },
    {
      "cell_type": "code",
      "source": [
        "eu_onto_sum=0\n",
        "for i in range(len(eu_onto)):\n",
        "      eu_onto_sum+=eu_onto[i]\n",
        "avg_eu_onto=eu_onto_sum/len(eu_onto)\n",
        "print(avg_eu_onto)"
      ],
      "metadata": {
        "colab": {
          "base_uri": "https://localhost:8080/"
        },
        "id": "_K2kyDrrwzsA",
        "outputId": "b3301ea5-7f10-48c2-b422-ac91df3112c4"
      },
      "execution_count": 30,
      "outputs": [
        {
          "output_type": "stream",
          "name": "stdout",
          "text": [
            "6.795533180236816\n"
          ]
        }
      ]
    },
    {
      "cell_type": "code",
      "source": [
        "eu_normal=[]\n",
        "for i in range(len(search_query_encode2)):\n",
        "  eu_normal.append(euclidean(search_query_encode2[i], embeddings2[i]))\n",
        "print(eu_normal)"
      ],
      "metadata": {
        "colab": {
          "base_uri": "https://localhost:8080/"
        },
        "id": "8OPBK1wtxGNP",
        "outputId": "38e936b2-3e50-4980-ac66-cc4e883662ff"
      },
      "execution_count": 31,
      "outputs": [
        {
          "output_type": "stream",
          "name": "stdout",
          "text": [
            "[7.185399532318115, 8.14850902557373, 8.403341293334961, 6.839377403259277, 6.597116947174072]\n"
          ]
        }
      ]
    },
    {
      "cell_type": "code",
      "source": [
        "eu_normal_sum=0\n",
        "for i in range(len(eu_normal)):\n",
        "      eu_normal_sum+=eu_normal[i]\n",
        "avg_eu_normal=eu_normal_sum/len(eu_normal)\n",
        "print(avg_eu_normal)"
      ],
      "metadata": {
        "colab": {
          "base_uri": "https://localhost:8080/"
        },
        "id": "aLYO5U5OxU6v",
        "outputId": "e3eb8eec-d36f-4cdc-e17e-deaab520edd7"
      },
      "execution_count": 32,
      "outputs": [
        {
          "output_type": "stream",
          "name": "stdout",
          "text": [
            "7.434748840332031\n"
          ]
        }
      ]
    },
    {
      "cell_type": "markdown",
      "source": [
        "# **Factual Correctness**\n"
      ],
      "metadata": {
        "id": "_Rherinw2RrM"
      }
    },
    {
      "cell_type": "code",
      "source": [
        "ground_truth= [\"Abdominal discomfort can have various causes, ranging from indigestion and gas to more serious conditions like gastritis or gastrointestinal infections. Here are some general recommendations for treating abdominal discomfort:1. Over-the-counter medications: Antacids or medications like simethicone can help relieve symptoms of indigestion, gas, or bloating. Always follow the recommended dosage instructions.2. Dietary adjustments: Avoid foods that may trigger or worsen abdominal discomfort, such as spicy foods, fatty foods, caffeine, and carbonated beverages. Opt for a bland diet with easily digestible foods like rice, bananas, and toast.3. Stay hydrated: Drink plenty of water to help maintain proper digestion and prevent constipation, which can contribute to abdominal discomfort.4. Peppermint tea: Peppermint tea has been traditionally used to alleviate symptoms of indigestion and bloating. It may help relax the muscles in the digestive tract.5. Probiotics: Consider taking probiotic supplements or consuming probiotic-rich foods like yogurt to promote a healthy balance of gut bacteria and improve digestion6. Gentle exercise: Light physical activity like walking or yoga can help stimulate digestion and relieve abdominal discomfort.7. Avoid triggers: Identify and avoid any specific triggers that may worsen your abdominal discomfort, such as certain foods, stress, or medications.If your abdominal discomfort persists, worsens, or is accompanied by other concerning symptoms such as severe pain, persistent vomiting, fever, or blood in the stool, it is important to seek medical attention promptly. A healthcare provider can evaluate your symptoms, determine the underlying cause of your abdominal discomfort, and recommend appropriate treatment options tailored to your specific condition.\",\"Severe throat pain can be uncomfortable and disruptive to daily activities. Here are some remedies that may help alleviate your symptoms:1. Saltwater gargle: Gargling with warm salt water can help reduce throat inflammation and provide temporary relief from pain. Mix about half a teaspoon of salt in a glass of warm water and gargle several times a day.2. Stay hydrated: Drink plenty of warm fluids like herbal teas, clear broths, and warm water to soothe your throat and prevent dehydration.3. Throat lozenges or sprays: Over-the-counter throat lozenges or sprays containing ingredients like menthol or benzocaine can help numb the throat and provide temporary relief from pain4. Honey and lemon: Mix honey and lemon in warm water or herbal tea to soothe your throat and provide relief from discomfort. Honey has natural antibacterial properties, while lemon can help break up mucus.5. Humidifier: Using a humidifier in your room can help keep the air moist and prevent throat irritation, especially if the air is dry.6. Rest your voice: Avoid straining your voice by speaking loudly or shouting. Resting your voice can help reduce throat irritation and promote healing.7. Over-the-counter pain relievers: Consider taking over-the-counter pain medications like acetaminophen or ibuprofen to help manage throat pain and reduce inflammation. Follow the recommended dosage instructions.If your throat pain persists, worsens, or is accompanied by other concerning symptoms such as difficulty swallowing, high fever, or persistent hoarseness, it is advisable to consult a healthcare provider for a proper evaluation and treatment. They can determine the underlying cause of your throat pain and recommend appropriate interventions based on your specific condition.\",\"Feeling irritable when tense or stressed is a common reaction that many people experience. Stress can trigger various physical and emotional responses in the body, leading to feelings of irritability. Here are some reasons why you may feel irritable when tense:1. Hormonal changes: When you are stressed, your body releases stress hormones like cortisol and adrenaline, which can affect your mood and increase irritability.2. Lack of sleep: Stress and tension can disrupt your sleep patterns, leading to fatigue and irritability. Lack of adequate rest can make it challenging to cope with stressors effectively.3. Muscle tension: Tension and stress can cause muscle tightness and discomfort, which may contribute to feelings of irritability and discomfort.4. Emotional response: Stressful situations can trigger emotional responses such as frustration, anger, or anxiety, which can manifest as irritability.5. Cognitive overload: When you are tense or stressed, your mind may be preoccupied with worries and concerns, making it difficult to focus and leading to irritability in response to minor frustrations.To manage feelings of irritability when tense, consider incorporating stress-reducing techniques into your daily routine, such as mindfulness meditation, deep breathing exercises, physical activity, and seeking social support. It is essential to address the underlying sources of stress and develop healthy coping mechanisms to improve your overall well-being. If feelings of irritability persist or significantly impact your daily life, consider speaking with a mental health professional for additional support and guidance.\",\"aundice is characterized by yellow discoloration of the skin, sclera (whites of the eyes), and tissues due to elevated levels of bilirubin in the bloodstream. Common symptoms of jaundice include:Yellowing of the skin, eyes, and mucous membranesDark urinePale stoolsItchy skinFatigueAbdominal pain or swellingNausea and vomitingLoss of appetiteFeverWeight lossThese symptoms can vary depending on the underlying cause of jaundice, such as liver disease, bile duct obstruction, or hemolytic disorders. It is important to consult a healthcare provider for proper evaluation and management if jaundice is suspected.\",\"For constipation issues, there are several remedies and lifestyle changes you can try to help alleviate the symptoms. Here are some common recommendations:Increase fiber intake: Consuming more fiber-rich foods such as fruits, vegetables, whole grains, and legumes can help promote regular bowel movements.Stay hydrated: Drinking an adequate amount of water throughout the day can soften stools and make them easier to pass.Exercise regularly: Physical activity can help stimulate bowel movements and improve overall digestion.Establish a regular bathroom routine: Try to have a consistent time each day to sit on the toilet and allow yourself enough time to have a bowel movement.Consider over-the-counter laxatives: In some cases, over-the-counter laxatives or stool softeners may be helpful, but it is important to consult with a healthcare provider before using them regularly.Probiotics: Adding probiotic-rich foods or supplements to your diet may help regulate gut health and improve bowel movements.Avoid delaying the urge to have a bowel movement: Ignoring the urge to go to the bathroom can worsen constipation over time.If constipation persists or is accompanied by severe pain, bleeding, or other concerning symptoms, it is important to seek medical advice for proper evaluation and treatment.\"]"
      ],
      "metadata": {
        "id": "JO3ArLhQxfCZ"
      },
      "execution_count": 34,
      "outputs": []
    },
    {
      "cell_type": "code",
      "source": [
        "gt_vector = model.encode(ground_truth)\n",
        "print(gt_vector)"
      ],
      "metadata": {
        "colab": {
          "base_uri": "https://localhost:8080/"
        },
        "id": "AwUw7PJ7Jh3z",
        "outputId": "4adc6f2d-ef37-40d7-a8ab-d03e3f7c8379"
      },
      "execution_count": 35,
      "outputs": [
        {
          "output_type": "stream",
          "name": "stdout",
          "text": [
            "[[-0.33975747  0.25951475  0.1973403  ... -0.13825484 -0.33087504\n",
            "   0.06619134]\n",
            " [-0.42069072  0.32121605  0.175854   ... -0.15196893 -0.29510054\n",
            "   0.0606166 ]\n",
            " [-0.3537077   0.18813834  0.13571188 ... -0.31743672 -0.3331074\n",
            "   0.01799927]\n",
            " [-0.13450375  0.42900527  0.31740564 ... -0.11109984 -0.30584252\n",
            "   0.0939694 ]\n",
            " [-0.22169924  0.19392386  0.11734738 ... -0.09903782 -0.3726901\n",
            "   0.00862678]]\n"
          ]
        }
      ]
    },
    {
      "cell_type": "markdown",
      "source": [
        "cosine similarity"
      ],
      "metadata": {
        "id": "14ev96g4JbUf"
      }
    },
    {
      "cell_type": "code",
      "source": [
        "cos_sim_fact_onto=[]\n",
        "for i in range(len(search_query_encode)):\n",
        "  cos_sim_fact_onto.append(util.cos_sim(search_query_encode[i], gt_vector[i]))\n",
        "print(cos_sim_fact_onto)"
      ],
      "metadata": {
        "colab": {
          "base_uri": "https://localhost:8080/"
        },
        "id": "5zqMvupvJZC6",
        "outputId": "d5cb4aeb-c677-436e-8600-3aa4df39d014"
      },
      "execution_count": 37,
      "outputs": [
        {
          "output_type": "stream",
          "name": "stdout",
          "text": [
            "[tensor([[0.8763]]), tensor([[0.8863]]), tensor([[0.9059]]), tensor([[0.9286]]), tensor([[0.9404]])]\n"
          ]
        }
      ]
    },
    {
      "cell_type": "code",
      "source": [
        "cos_sum_fact_onto=0\n",
        "for i in range(len(cos_sim_fact_onto)):\n",
        "      cos_sum_fact_onto+=cos_sim_fact_onto[i]\n",
        "avg_onto_fact=cos_sum_fact_onto/len(cos_sim_fact_onto)\n",
        "print(avg_onto_fact)"
      ],
      "metadata": {
        "colab": {
          "base_uri": "https://localhost:8080/"
        },
        "id": "6Nv6E-URKLca",
        "outputId": "9d16c558-13f8-4798-8caa-6c2f4e247efd"
      },
      "execution_count": 38,
      "outputs": [
        {
          "output_type": "stream",
          "name": "stdout",
          "text": [
            "tensor([[0.9075]])\n"
          ]
        }
      ]
    },
    {
      "cell_type": "code",
      "source": [
        "cos_sim_fact_normal=[]\n",
        "for i in range(len(search_query_encode2)):\n",
        "  cos_sim_fact_normal.append(util.cos_sim(search_query_encode2[i], gt_vector[i]))\n",
        "print(cos_sim_fact_normal)"
      ],
      "metadata": {
        "colab": {
          "base_uri": "https://localhost:8080/"
        },
        "id": "DKvfn37fLVVx",
        "outputId": "ecad5c09-bfcc-40f9-e379-065fbcba02f3"
      },
      "execution_count": 39,
      "outputs": [
        {
          "output_type": "stream",
          "name": "stdout",
          "text": [
            "[tensor([[0.8341]]), tensor([[0.8855]]), tensor([[0.8555]]), tensor([[0.9289]]), tensor([[0.9690]])]\n"
          ]
        }
      ]
    },
    {
      "cell_type": "code",
      "source": [
        "cos_sum_fact_normal=0\n",
        "for i in range(len(cos_sim_fact_normal)):\n",
        "  cos_sum_fact_normal+=cos_sim_fact_normal[i]\n",
        "avg_norm_fact = cos_sum_fact_normal/len(cos_sim_fact_normal)\n",
        "print(avg_norm_fact)"
      ],
      "metadata": {
        "colab": {
          "base_uri": "https://localhost:8080/"
        },
        "id": "TwggV_BFLr3B",
        "outputId": "64f3f7c7-38a1-4d2f-c390-07661ffa2ffe"
      },
      "execution_count": 41,
      "outputs": [
        {
          "output_type": "stream",
          "name": "stdout",
          "text": [
            "tensor([[0.8946]])\n"
          ]
        }
      ]
    },
    {
      "cell_type": "markdown",
      "source": [
        "dot product"
      ],
      "metadata": {
        "id": "VNLhHLfiMlXJ"
      }
    },
    {
      "cell_type": "code",
      "source": [
        "dot_score_onto_fact=[]\n",
        "for i in range(len(search_query_encode)):\n",
        "  dot_score_onto_fact.append(util.dot_score(search_query_encode[i], gt_vector[i]))\n",
        "print(dot_score_onto_fact)"
      ],
      "metadata": {
        "colab": {
          "base_uri": "https://localhost:8080/"
        },
        "id": "Ar9sgEMDMIZY",
        "outputId": "e417d8c6-6530-45b7-fd63-55d9b2331903"
      },
      "execution_count": 42,
      "outputs": [
        {
          "output_type": "stream",
          "name": "stdout",
          "text": [
            "[tensor([[67.3668]]), tensor([[59.8131]]), tensor([[80.1438]]), tensor([[76.4834]]), tensor([[74.8656]])]\n"
          ]
        }
      ]
    },
    {
      "cell_type": "code",
      "source": [
        "dot_score_fact_onto=0\n",
        "for i in range(len(dot_score_onto_fact)):\n",
        "      dot_score_fact_onto+=dot_score_onto_fact[i]\n",
        "avg_dot_onto_fact=dot_score_fact_onto/len(dot_score_onto_fact)\n",
        "print(avg_dot_onto_fact)"
      ],
      "metadata": {
        "colab": {
          "base_uri": "https://localhost:8080/"
        },
        "id": "CtpgsvVRMxGI",
        "outputId": "bc292958-0a52-4f04-861b-d2881eaf6b09"
      },
      "execution_count": 43,
      "outputs": [
        {
          "output_type": "stream",
          "name": "stdout",
          "text": [
            "tensor([[71.7345]])\n"
          ]
        }
      ]
    },
    {
      "cell_type": "code",
      "source": [
        "dot_score_norm_fact=[]\n",
        "for i in range(len(search_query_encode2)):\n",
        "  dot_score_norm_fact.append(util.dot_score(search_query_encode2[i], gt_vector[i]))\n",
        "print(dot_score_norm_fact)"
      ],
      "metadata": {
        "colab": {
          "base_uri": "https://localhost:8080/"
        },
        "id": "_q5tNgmNNJlB",
        "outputId": "cb654c87-4b79-486b-ddc5-8de8648a8a5c"
      },
      "execution_count": 44,
      "outputs": [
        {
          "output_type": "stream",
          "name": "stdout",
          "text": [
            "[tensor([[67.9222]]), tensor([[65.6464]]), tensor([[73.0148]]), tensor([[77.5916]]), tensor([[72.2438]])]\n"
          ]
        }
      ]
    },
    {
      "cell_type": "code",
      "source": [
        "dot_score_fact_norm=0\n",
        "for i in range(len(dot_score_norm_fact)):\n",
        "      dot_score_fact_norm+=dot_score_norm_fact[i]\n",
        "avg_dot_norm_fact=dot_score_fact_norm/len(dot_score_norm_fact)\n",
        "print(avg_dot_norm_fact)"
      ],
      "metadata": {
        "colab": {
          "base_uri": "https://localhost:8080/"
        },
        "id": "qMXxGHBnNQo_",
        "outputId": "6dd3dec2-7ffc-4b32-c736-ef551c24da0e"
      },
      "execution_count": 45,
      "outputs": [
        {
          "output_type": "stream",
          "name": "stdout",
          "text": [
            "tensor([[71.2838]])\n"
          ]
        }
      ]
    },
    {
      "cell_type": "markdown",
      "source": [
        "euclidean"
      ],
      "metadata": {
        "id": "377kLQWdNfZk"
      }
    },
    {
      "cell_type": "code",
      "source": [
        "eu_onto_fact=[]\n",
        "for i in range(len(search_query_encode)):\n",
        "  eu_onto_fact.append(euclidean(search_query_encode[i], gt_vector[i]))\n",
        "print(eu_onto_fact)"
      ],
      "metadata": {
        "colab": {
          "base_uri": "https://localhost:8080/"
        },
        "id": "2LKo6-MkNbX4",
        "outputId": "a9fffbaf-e8fe-4914-ee57-0612198627b9"
      },
      "execution_count": 46,
      "outputs": [
        {
          "output_type": "stream",
          "name": "stdout",
          "text": [
            "[4.377843379974365, 3.960866928100586, 4.153058052062988, 3.463183879852295, 3.101505994796753]\n"
          ]
        }
      ]
    },
    {
      "cell_type": "code",
      "source": [
        "eu_onto_sum_fact=0\n",
        "for i in range(len(eu_onto_fact)):\n",
        "      eu_onto_sum_fact+=eu_onto_fact[i]\n",
        "avg_eu_onto_fact=eu_onto_sum_fact/len(eu_onto_fact)\n",
        "print(avg_eu_onto_fact)"
      ],
      "metadata": {
        "colab": {
          "base_uri": "https://localhost:8080/"
        },
        "id": "EE9GhNQ0NoRg",
        "outputId": "5e611761-b2d3-4faf-852d-f1e82cf2fdf9"
      },
      "execution_count": 47,
      "outputs": [
        {
          "output_type": "stream",
          "name": "stdout",
          "text": [
            "3.8112916469573976\n"
          ]
        }
      ]
    },
    {
      "cell_type": "code",
      "source": [
        "eu_norm_fact=[]\n",
        "for i in range(len(search_query_encode2)):\n",
        "  eu_norm_fact.append(euclidean(search_query_encode2[i], gt_vector[i]))\n",
        "print(eu_norm_fact)"
      ],
      "metadata": {
        "colab": {
          "base_uri": "https://localhost:8080/"
        },
        "id": "4EjI8mDQNzMf",
        "outputId": "eb08716e-ec29-4501-c989-4f1b00eac079"
      },
      "execution_count": 48,
      "outputs": [
        {
          "output_type": "stream",
          "name": "stdout",
          "text": [
            "[5.278683662414551, 4.126171112060547, 4.983984470367432, 3.500424861907959, 2.1589109897613525]\n"
          ]
        }
      ]
    },
    {
      "cell_type": "code",
      "source": [
        "eu_norm_sum_fact=0\n",
        "for i in range(len(eu_norm_fact)):\n",
        "      eu_norm_sum_fact+=eu_norm_fact[i]\n",
        "avg_eu_norm_fact=eu_norm_sum_fact/len(eu_norm_fact)\n",
        "print(avg_eu_norm_fact)"
      ],
      "metadata": {
        "colab": {
          "base_uri": "https://localhost:8080/"
        },
        "id": "lxVnCYz-N7Ao",
        "outputId": "d4e1724b-378f-4992-8db6-d3d772679202"
      },
      "execution_count": 49,
      "outputs": [
        {
          "output_type": "stream",
          "name": "stdout",
          "text": [
            "4.009635019302368\n"
          ]
        }
      ]
    },
    {
      "cell_type": "markdown",
      "source": [
        "# **Results Tabulation**"
      ],
      "metadata": {
        "id": "K3VX9oFFOJiw"
      }
    },
    {
      "cell_type": "code",
      "source": [
        "from tabulate import tabulate"
      ],
      "metadata": {
        "id": "NEP2HWzzOIHY"
      },
      "execution_count": 50,
      "outputs": []
    },
    {
      "cell_type": "code",
      "source": [
        "cont_scores = [[\"cosine similarity\", avg*100, avg_normal*100],\n",
        "          [\"dot product\", avg_dot_onto, avg_dot_normal],\n",
        "          [\"euclidean distance\", avg_eu_onto, avg_eu_normal]]"
      ],
      "metadata": {
        "id": "_vUTd2PnO4kv"
      },
      "execution_count": 64,
      "outputs": []
    },
    {
      "cell_type": "code",
      "source": [
        "model_name = [\"Contextual Obedience\",\n",
        "              \"ChatGPT-3.5 turbo with subsumptions\",\n",
        "              \"ChatGPT-3.5 turbo\"]"
      ],
      "metadata": {
        "id": "zdCSp7d8Pj9_"
      },
      "execution_count": 65,
      "outputs": []
    },
    {
      "cell_type": "code",
      "source": [
        "print(tabulate(cont_scores, headers=model_name, tablefmt=\"grid\"))"
      ],
      "metadata": {
        "colab": {
          "base_uri": "https://localhost:8080/"
        },
        "id": "zc2g3EYLPta_",
        "outputId": "96d28b13-b122-449f-d423-763d5ae7a639"
      },
      "execution_count": 67,
      "outputs": [
        {
          "output_type": "stream",
          "name": "stdout",
          "text": [
            "+------------------------+---------------------------------------+---------------------+\n",
            "| Contextual Obedience   |   ChatGPT-3.5 turbo with subsumptions |   ChatGPT-3.5 turbo |\n",
            "+========================+=======================================+=====================+\n",
            "| cosine similarity      |                              74.8498  |            68.4832  |\n",
            "+------------------------+---------------------------------------+---------------------+\n",
            "| dot product            |                              67.376   |            59.4732  |\n",
            "+------------------------+---------------------------------------+---------------------+\n",
            "| euclidean distance     |                               6.79553 |             7.43475 |\n",
            "+------------------------+---------------------------------------+---------------------+\n"
          ]
        }
      ]
    },
    {
      "cell_type": "code",
      "source": [
        "fact_scores = [[\"cosine similarity\", avg_onto_fact*100, avg_norm_fact*100],\n",
        "          [\"dot product\", avg_dot_onto_fact, avg_dot_norm_fact],\n",
        "          [\"euclidean distance\", avg_eu_onto_fact, avg_eu_norm_fact]]"
      ],
      "metadata": {
        "id": "ReQ5gCadPzW-"
      },
      "execution_count": 68,
      "outputs": []
    },
    {
      "cell_type": "code",
      "source": [
        "model_name2 = [\"Factual Accuracy\",\n",
        "              \"ChatGPT-3.5 turbo with subsumptions\",\n",
        "              \"ChatGPT-3.5 turbo\"]"
      ],
      "metadata": {
        "id": "Ghvq1RIcRqmP"
      },
      "execution_count": 79,
      "outputs": []
    },
    {
      "cell_type": "code",
      "source": [
        "print(tabulate(fact_scores, headers=model_name2, tablefmt=\"grid\"))"
      ],
      "metadata": {
        "colab": {
          "base_uri": "https://localhost:8080/"
        },
        "id": "ci8_IclIRw_H",
        "outputId": "f63544d9-0ca1-4e79-8ac5-849a5e676ab8"
      },
      "execution_count": 80,
      "outputs": [
        {
          "output_type": "stream",
          "name": "stdout",
          "text": [
            "+--------------------+---------------------------------------+---------------------+\n",
            "| Factual Accuracy   |   ChatGPT-3.5 turbo with subsumptions |   ChatGPT-3.5 turbo |\n",
            "+====================+=======================================+=====================+\n",
            "| cosine similarity  |                              90.7507  |            89.4618  |\n",
            "+--------------------+---------------------------------------+---------------------+\n",
            "| dot product        |                              71.7345  |            71.2838  |\n",
            "+--------------------+---------------------------------------+---------------------+\n",
            "| euclidean distance |                               3.81129 |             4.00964 |\n",
            "+--------------------+---------------------------------------+---------------------+\n"
          ]
        }
      ]
    },
    {
      "cell_type": "code",
      "source": [
        "onto_avg_hall = [(avg_onto_fact*100 + avg*100)/2,(avg_dot_onto_fact+avg_dot_onto)/2,(avg_eu_onto_fact+avg_eu_onto)/2]"
      ],
      "metadata": {
        "id": "N826vOVOR1qO"
      },
      "execution_count": 75,
      "outputs": []
    },
    {
      "cell_type": "code",
      "source": [
        "onto_avg_hall"
      ],
      "metadata": {
        "colab": {
          "base_uri": "https://localhost:8080/"
        },
        "id": "NBc1ENQwS8oG",
        "outputId": "70359edd-0df4-4aed-a5d9-0b91213c1822"
      },
      "execution_count": 76,
      "outputs": [
        {
          "output_type": "execute_result",
          "data": {
            "text/plain": [
              "[tensor([[82.8003]]), tensor([[69.5553]]), 5.303412413597107]"
            ]
          },
          "metadata": {},
          "execution_count": 76
        }
      ]
    },
    {
      "cell_type": "code",
      "source": [
        "normal_avg_hall = [(avg_norm_fact*100 + avg_normal*100)/2,(avg_dot_norm_fact+avg_dot_normal)/2,(avg_eu_norm_fact+avg_eu_normal)/2]"
      ],
      "metadata": {
        "id": "HTiw8lX2S94d"
      },
      "execution_count": 77,
      "outputs": []
    },
    {
      "cell_type": "code",
      "source": [
        "normal_avg_hall"
      ],
      "metadata": {
        "colab": {
          "base_uri": "https://localhost:8080/"
        },
        "id": "C1z7T2f4T2Le",
        "outputId": "f7e91f96-ddd7-49dc-e66c-42f5c352ecdf"
      },
      "execution_count": 78,
      "outputs": [
        {
          "output_type": "execute_result",
          "data": {
            "text/plain": [
              "[tensor([[78.9725]]), tensor([[65.3785]]), 5.7221919298172]"
            ]
          },
          "metadata": {},
          "execution_count": 78
        }
      ]
    },
    {
      "cell_type": "code",
      "source": [
        "headings = [\"Hallucination Index\",\n",
        "              \"ChatGPT-3.5 turbo with subsumptions\",\n",
        "              \"ChatGPT-3.5 turbo\"]\n",
        "hall_scores = [[\"cosine similarity\", onto_avg_hall[0], normal_avg_hall[0]], [\"dot product\", onto_avg_hall[1], normal_avg_hall[1]], [\"euclidean distance\", onto_avg_hall[2], normal_avg_hall[2]]]"
      ],
      "metadata": {
        "id": "1teEwQXxT-AE"
      },
      "execution_count": 81,
      "outputs": []
    },
    {
      "cell_type": "code",
      "source": [
        "print(tabulate(hall_scores, headers = headings, tablefmt = \"grid\"))"
      ],
      "metadata": {
        "colab": {
          "base_uri": "https://localhost:8080/"
        },
        "id": "nUbE5ATFT4KV",
        "outputId": "a62d2979-fe4d-4892-a951-20712cb0a11c"
      },
      "execution_count": 82,
      "outputs": [
        {
          "output_type": "stream",
          "name": "stdout",
          "text": [
            "+-----------------------+---------------------------------------+---------------------+\n",
            "| Hallucination Index   |   ChatGPT-3.5 turbo with subsumptions |   ChatGPT-3.5 turbo |\n",
            "+=======================+=======================================+=====================+\n",
            "| cosine similarity     |                              82.8003  |            78.9725  |\n",
            "+-----------------------+---------------------------------------+---------------------+\n",
            "| dot product           |                              69.5553  |            65.3785  |\n",
            "+-----------------------+---------------------------------------+---------------------+\n",
            "| euclidean distance    |                               5.30341 |             5.72219 |\n",
            "+-----------------------+---------------------------------------+---------------------+\n"
          ]
        }
      ]
    },
    {
      "cell_type": "code",
      "source": [],
      "metadata": {
        "id": "9VMnk8WcU7V8"
      },
      "execution_count": null,
      "outputs": []
    }
  ]
}